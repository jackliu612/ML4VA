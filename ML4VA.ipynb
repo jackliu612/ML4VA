{
  "nbformat": 4,
  "nbformat_minor": 0,
  "metadata": {
    "colab": {
      "name": "ML4VA",
      "provenance": [],
      "collapsed_sections": [],
      "toc_visible": true
    },
    "kernelspec": {
      "name": "python3",
      "display_name": "Python 3"
    },
    "accelerator": "GPU"
  },
  "cells": [
    {
      "cell_type": "markdown",
      "metadata": {
        "id": "YDaTPM5VAT5E"
      },
      "source": [
        "Our project involves predicting car crashes in Virginia "
      ]
    },
    {
      "cell_type": "code",
      "metadata": {
        "id": "ipefxn42AM0L"
      },
      "source": [
        "import sklearn\n",
        "import numpy as np\n",
        "import os\n",
        "import pandas as pd\n",
        "from tensorflow import keras\n",
        "import tensorflow as tf\n",
        "from sklearn.model_selection import train_test_split\n",
        "from sklearn.pipeline import Pipeline\n",
        "from sklearn.preprocessing import StandardScaler\n",
        "from sklearn.impute import SimpleImputer\n",
        "from sklearn.preprocessing import OneHotEncoder\n",
        "from sklearn.compose import ColumnTransformer\n",
        "from sklearn.metrics import f1_score\n",
        "from sklearn.metrics import classification_report\n",
        "from sklearn.metrics import confusion_matrix\n",
        "from sklearn.metrics import recall_score\n",
        "from sklearn.metrics import precision_score\n",
        "from sklearn.metrics import f1_score\n",
        "from sklearn.metrics import accuracy_score\n",
        "from sklearn.metrics import plot_confusion_matrix\n",
        "from imblearn.under_sampling import RandomUnderSampler\n",
        "from imblearn.over_sampling import RandomOverSampler\n",
        "from sklearn.model_selection import GridSearchCV"
      ],
      "execution_count": null,
      "outputs": []
    },
    {
      "cell_type": "markdown",
      "metadata": {
        "id": "XsHWsXYWDdx6"
      },
      "source": [
        "# Data Processing"
      ]
    },
    {
      "cell_type": "code",
      "metadata": {
        "id": "gaBFNU6VDdK9",
        "colab": {
          "base_uri": "https://localhost:8080/",
          "height": 350
        },
        "outputId": "44c41406-8144-4900-c2f7-b6cdf473e16f"
      },
      "source": [
        "#crashes = pd.read_csv('https://filebin.net/wrmg77bm803etb1a/AllVirginiaCrash.csv?t=s60oqxmb')\n",
        "crashes = pd.read_csv('AllVirginiaCrash.csv')\n",
        "speed = pd.read_csv('VDOT_Speed_Limits.csv')\n",
        "traffic = pd.read_csv('Virginia_Traffic_Volume.csv')\n",
        "crashes.head()"
      ],
      "execution_count": null,
      "outputs": [
        {
          "output_type": "execute_result",
          "data": {
            "text/html": [
              "<div>\n",
              "<style scoped>\n",
              "    .dataframe tbody tr th:only-of-type {\n",
              "        vertical-align: middle;\n",
              "    }\n",
              "\n",
              "    .dataframe tbody tr th {\n",
              "        vertical-align: top;\n",
              "    }\n",
              "\n",
              "    .dataframe thead th {\n",
              "        text-align: right;\n",
              "    }\n",
              "</style>\n",
              "<table border=\"1\" class=\"dataframe\">\n",
              "  <thead>\n",
              "    <tr style=\"text-align: right;\">\n",
              "      <th></th>\n",
              "      <th>FID</th>\n",
              "      <th>FID_1</th>\n",
              "      <th>DOCUMENT_N</th>\n",
              "      <th>CRASH_YEAR</th>\n",
              "      <th>CRASH_DT</th>\n",
              "      <th>CRASH_MILI</th>\n",
              "      <th>CRASH_SEVE</th>\n",
              "      <th>K_PEOPLE</th>\n",
              "      <th>A_PEOPLE</th>\n",
              "      <th>B_PEOPLE</th>\n",
              "      <th>C_PEOPLE</th>\n",
              "      <th>PERSONS_IN</th>\n",
              "      <th>PEDESTRIAN</th>\n",
              "      <th>PEDESTRI_1</th>\n",
              "      <th>VEH_COUNT</th>\n",
              "      <th>COLLISION_</th>\n",
              "      <th>WEATHER_CO</th>\n",
              "      <th>LIGHT_COND</th>\n",
              "      <th>RD_TYPE</th>\n",
              "      <th>ROADWAY_SU</th>\n",
              "      <th>RELATION_T</th>\n",
              "      <th>ROADWAY_AL</th>\n",
              "      <th>ROADWAY__1</th>\n",
              "      <th>ROADWAY_DE</th>\n",
              "      <th>ROADWAY__2</th>\n",
              "      <th>INTERSECTI</th>\n",
              "      <th>TRAFFIC_CO</th>\n",
              "      <th>TRFC_CTRL_</th>\n",
              "      <th>WORK_ZONE_</th>\n",
              "      <th>WORK_ZON_1</th>\n",
              "      <th>WORK_ZON_2</th>\n",
              "      <th>FIRST_HARM</th>\n",
              "      <th>FIRST_HA_1</th>\n",
              "      <th>ALCOHOL_NO</th>\n",
              "      <th>BELTED_UNB</th>\n",
              "      <th>BIKE_NONBI</th>\n",
              "      <th>DISTRACTED</th>\n",
              "      <th>DEER_NODEE</th>\n",
              "      <th>DROWSY_NOT</th>\n",
              "      <th>DRUG_NODRU</th>\n",
              "      <th>GR_NOGR</th>\n",
              "      <th>HITRUN_NOT</th>\n",
              "      <th>LGTRUCK_NO</th>\n",
              "      <th>MOTOR_NONM</th>\n",
              "      <th>PED_NONPED</th>\n",
              "      <th>RR</th>\n",
              "      <th>SPEED_NOTS</th>\n",
              "      <th>SCHOOL_ZON</th>\n",
              "      <th>SENIOR_NOT</th>\n",
              "      <th>YOUNG_NOTY</th>\n",
              "      <th>MAINLINE_Y</th>\n",
              "      <th>NIGHT</th>\n",
              "      <th>VDOT_DISTR</th>\n",
              "      <th>JURIS_CODE</th>\n",
              "      <th>PHYSICAL_J</th>\n",
              "      <th>LOCAL_CASE</th>\n",
              "      <th>FUN</th>\n",
              "      <th>FAC</th>\n",
              "      <th>AREA_TYPE</th>\n",
              "      <th>SYSTEM</th>\n",
              "      <th>VSP</th>\n",
              "      <th>OWNERSHIP</th>\n",
              "      <th>INTERSEC_1</th>\n",
              "      <th>PLAN_DISTR</th>\n",
              "      <th>MPO_NAME</th>\n",
              "      <th>ROUTE_OR_S</th>\n",
              "      <th>RTE_NM</th>\n",
              "      <th>RNS_MP</th>\n",
              "      <th>NODE</th>\n",
              "      <th>OFFSET</th>\n",
              "      <th>LAT</th>\n",
              "      <th>LON</th>\n",
              "    </tr>\n",
              "  </thead>\n",
              "  <tbody>\n",
              "    <tr>\n",
              "      <th>0</th>\n",
              "      <td>0</td>\n",
              "      <td>755424</td>\n",
              "      <td>190315149</td>\n",
              "      <td>2019</td>\n",
              "      <td>1/10/2019 0:00:00</td>\n",
              "      <td>1400</td>\n",
              "      <td>C</td>\n",
              "      <td>0</td>\n",
              "      <td>0</td>\n",
              "      <td>0</td>\n",
              "      <td>2</td>\n",
              "      <td>2</td>\n",
              "      <td>0</td>\n",
              "      <td>0</td>\n",
              "      <td>3</td>\n",
              "      <td>4</td>\n",
              "      <td>1</td>\n",
              "      <td>2</td>\n",
              "      <td>0</td>\n",
              "      <td>1</td>\n",
              "      <td>1</td>\n",
              "      <td>1</td>\n",
              "      <td>2</td>\n",
              "      <td>1</td>\n",
              "      <td>3</td>\n",
              "      <td>1</td>\n",
              "      <td>6</td>\n",
              "      <td>1</td>\n",
              "      <td>2</td>\n",
              "      <td>0</td>\n",
              "      <td>0</td>\n",
              "      <td>20</td>\n",
              "      <td>1</td>\n",
              "      <td>0</td>\n",
              "      <td>0</td>\n",
              "      <td>0</td>\n",
              "      <td>0</td>\n",
              "      <td>0</td>\n",
              "      <td>0</td>\n",
              "      <td>0</td>\n",
              "      <td>0</td>\n",
              "      <td>0</td>\n",
              "      <td>1</td>\n",
              "      <td>0</td>\n",
              "      <td>0</td>\n",
              "      <td>0</td>\n",
              "      <td>0</td>\n",
              "      <td>3</td>\n",
              "      <td>1</td>\n",
              "      <td>0</td>\n",
              "      <td>1</td>\n",
              "      <td>0</td>\n",
              "      <td>5</td>\n",
              "      <td>122</td>\n",
              "      <td>122</td>\n",
              "      <td>DIV519003398</td>\n",
              "      <td>A</td>\n",
              "      <td>3</td>\n",
              "      <td>1</td>\n",
              "      <td>1</td>\n",
              "      <td>5</td>\n",
              "      <td>1</td>\n",
              "      <td>0</td>\n",
              "      <td>23</td>\n",
              "      <td>HAMP</td>\n",
              "      <td>I - 64 WEST</td>\n",
              "      <td>R-VA   IS00064WB</td>\n",
              "      <td>281.67</td>\n",
              "      <td></td>\n",
              "      <td>0.00</td>\n",
              "      <td>36.881032</td>\n",
              "      <td>-76.210326</td>\n",
              "    </tr>\n",
              "    <tr>\n",
              "      <th>1</th>\n",
              "      <td>1</td>\n",
              "      <td>755425</td>\n",
              "      <td>190855040</td>\n",
              "      <td>2019</td>\n",
              "      <td>3/16/2019 0:00:00</td>\n",
              "      <td>1522</td>\n",
              "      <td>O</td>\n",
              "      <td>0</td>\n",
              "      <td>0</td>\n",
              "      <td>0</td>\n",
              "      <td>0</td>\n",
              "      <td>0</td>\n",
              "      <td>0</td>\n",
              "      <td>0</td>\n",
              "      <td>2</td>\n",
              "      <td>1</td>\n",
              "      <td>1</td>\n",
              "      <td>2</td>\n",
              "      <td>0</td>\n",
              "      <td>1</td>\n",
              "      <td>1</td>\n",
              "      <td>1</td>\n",
              "      <td>2</td>\n",
              "      <td>1</td>\n",
              "      <td>2</td>\n",
              "      <td>2</td>\n",
              "      <td>3</td>\n",
              "      <td>1</td>\n",
              "      <td>2</td>\n",
              "      <td>0</td>\n",
              "      <td>0</td>\n",
              "      <td>6</td>\n",
              "      <td>1</td>\n",
              "      <td>0</td>\n",
              "      <td>0</td>\n",
              "      <td>0</td>\n",
              "      <td>1</td>\n",
              "      <td>0</td>\n",
              "      <td>0</td>\n",
              "      <td>0</td>\n",
              "      <td>0</td>\n",
              "      <td>0</td>\n",
              "      <td>0</td>\n",
              "      <td>0</td>\n",
              "      <td>0</td>\n",
              "      <td>0</td>\n",
              "      <td>0</td>\n",
              "      <td>3</td>\n",
              "      <td>0</td>\n",
              "      <td>0</td>\n",
              "      <td>1</td>\n",
              "      <td>0</td>\n",
              "      <td>5</td>\n",
              "      <td>122</td>\n",
              "      <td>122</td>\n",
              "      <td>P19031600441</td>\n",
              "      <td>E</td>\n",
              "      <td>1</td>\n",
              "      <td>1</td>\n",
              "      <td>9</td>\n",
              "      <td>5</td>\n",
              "      <td>5</td>\n",
              "      <td>2</td>\n",
              "      <td>23</td>\n",
              "      <td>HAMP</td>\n",
              "      <td>1400 NORVIEW AVE</td>\n",
              "      <td>R-VA   SR00247WB</td>\n",
              "      <td>4.94</td>\n",
              "      <td>483562</td>\n",
              "      <td>10.56</td>\n",
              "      <td>36.892152</td>\n",
              "      <td>-76.228672</td>\n",
              "    </tr>\n",
              "    <tr>\n",
              "      <th>2</th>\n",
              "      <td>2</td>\n",
              "      <td>755426</td>\n",
              "      <td>192145261</td>\n",
              "      <td>2019</td>\n",
              "      <td>8/2/2019 0:00:00</td>\n",
              "      <td>1301</td>\n",
              "      <td>O</td>\n",
              "      <td>0</td>\n",
              "      <td>0</td>\n",
              "      <td>0</td>\n",
              "      <td>0</td>\n",
              "      <td>0</td>\n",
              "      <td>0</td>\n",
              "      <td>0</td>\n",
              "      <td>2</td>\n",
              "      <td>2</td>\n",
              "      <td>1</td>\n",
              "      <td>2</td>\n",
              "      <td>0</td>\n",
              "      <td>1</td>\n",
              "      <td>8</td>\n",
              "      <td>1</td>\n",
              "      <td>2</td>\n",
              "      <td>1</td>\n",
              "      <td>2</td>\n",
              "      <td>1</td>\n",
              "      <td>4</td>\n",
              "      <td>1</td>\n",
              "      <td>2</td>\n",
              "      <td>0</td>\n",
              "      <td>0</td>\n",
              "      <td>20</td>\n",
              "      <td>1</td>\n",
              "      <td>0</td>\n",
              "      <td>0</td>\n",
              "      <td>0</td>\n",
              "      <td>0</td>\n",
              "      <td>0</td>\n",
              "      <td>0</td>\n",
              "      <td>0</td>\n",
              "      <td>0</td>\n",
              "      <td>0</td>\n",
              "      <td>0</td>\n",
              "      <td>0</td>\n",
              "      <td>0</td>\n",
              "      <td>0</td>\n",
              "      <td>1</td>\n",
              "      <td>3</td>\n",
              "      <td>0</td>\n",
              "      <td>0</td>\n",
              "      <td>1</td>\n",
              "      <td>0</td>\n",
              "      <td>9</td>\n",
              "      <td>253</td>\n",
              "      <td>253</td>\n",
              "      <td>2019-00027407</td>\n",
              "      <td>I</td>\n",
              "      <td>1</td>\n",
              "      <td>1</td>\n",
              "      <td>9</td>\n",
              "      <td>7</td>\n",
              "      <td>6</td>\n",
              "      <td>0</td>\n",
              "      <td>8</td>\n",
              "      <td>NOVA</td>\n",
              "      <td>EDWARDS FERRY ROAD</td>\n",
              "      <td>R-VA253UR04208WB</td>\n",
              "      <td>1.53</td>\n",
              "      <td>429758</td>\n",
              "      <td>802.56</td>\n",
              "      <td>39.113759</td>\n",
              "      <td>-77.534810</td>\n",
              "    </tr>\n",
              "    <tr>\n",
              "      <th>3</th>\n",
              "      <td>3</td>\n",
              "      <td>755427</td>\n",
              "      <td>193475098</td>\n",
              "      <td>2019</td>\n",
              "      <td>12/11/2019 0:00:00</td>\n",
              "      <td>1158</td>\n",
              "      <td>B</td>\n",
              "      <td>0</td>\n",
              "      <td>0</td>\n",
              "      <td>1</td>\n",
              "      <td>0</td>\n",
              "      <td>1</td>\n",
              "      <td>0</td>\n",
              "      <td>0</td>\n",
              "      <td>2</td>\n",
              "      <td>2</td>\n",
              "      <td>1</td>\n",
              "      <td>2</td>\n",
              "      <td>0</td>\n",
              "      <td>1</td>\n",
              "      <td>13</td>\n",
              "      <td>1</td>\n",
              "      <td>1</td>\n",
              "      <td>1</td>\n",
              "      <td>3</td>\n",
              "      <td>1</td>\n",
              "      <td>1</td>\n",
              "      <td>6</td>\n",
              "      <td>2</td>\n",
              "      <td>0</td>\n",
              "      <td>0</td>\n",
              "      <td>20</td>\n",
              "      <td>7</td>\n",
              "      <td>0</td>\n",
              "      <td>0</td>\n",
              "      <td>1</td>\n",
              "      <td>0</td>\n",
              "      <td>0</td>\n",
              "      <td>0</td>\n",
              "      <td>0</td>\n",
              "      <td>0</td>\n",
              "      <td>0</td>\n",
              "      <td>0</td>\n",
              "      <td>0</td>\n",
              "      <td>0</td>\n",
              "      <td>0</td>\n",
              "      <td>0</td>\n",
              "      <td>3</td>\n",
              "      <td>0</td>\n",
              "      <td>0</td>\n",
              "      <td>1</td>\n",
              "      <td>0</td>\n",
              "      <td>5</td>\n",
              "      <td>134</td>\n",
              "      <td>134</td>\n",
              "      <td>2019046859</td>\n",
              "      <td>H</td>\n",
              "      <td>1</td>\n",
              "      <td>1</td>\n",
              "      <td>9</td>\n",
              "      <td>5</td>\n",
              "      <td>6</td>\n",
              "      <td>2</td>\n",
              "      <td>23</td>\n",
              "      <td>HAMP</td>\n",
              "      <td>1100 FIRST COLONIAL ROAD</td>\n",
              "      <td>R-VA134UR00009NB</td>\n",
              "      <td>1.73</td>\n",
              "      <td>541256</td>\n",
              "      <td>174.24</td>\n",
              "      <td>36.866187</td>\n",
              "      <td>-76.029270</td>\n",
              "    </tr>\n",
              "    <tr>\n",
              "      <th>4</th>\n",
              "      <td>4</td>\n",
              "      <td>755428</td>\n",
              "      <td>191555292</td>\n",
              "      <td>2019</td>\n",
              "      <td>6/2/2019 0:00:00</td>\n",
              "      <td>1700</td>\n",
              "      <td>A</td>\n",
              "      <td>0</td>\n",
              "      <td>1</td>\n",
              "      <td>0</td>\n",
              "      <td>0</td>\n",
              "      <td>1</td>\n",
              "      <td>0</td>\n",
              "      <td>0</td>\n",
              "      <td>1</td>\n",
              "      <td>9</td>\n",
              "      <td>1</td>\n",
              "      <td>2</td>\n",
              "      <td>2</td>\n",
              "      <td>1</td>\n",
              "      <td>8</td>\n",
              "      <td>1</td>\n",
              "      <td>2</td>\n",
              "      <td>1</td>\n",
              "      <td>1</td>\n",
              "      <td>1</td>\n",
              "      <td>7</td>\n",
              "      <td>1</td>\n",
              "      <td>2</td>\n",
              "      <td>0</td>\n",
              "      <td>0</td>\n",
              "      <td>1</td>\n",
              "      <td>4</td>\n",
              "      <td>0</td>\n",
              "      <td>0</td>\n",
              "      <td>0</td>\n",
              "      <td>0</td>\n",
              "      <td>0</td>\n",
              "      <td>0</td>\n",
              "      <td>0</td>\n",
              "      <td>0</td>\n",
              "      <td>0</td>\n",
              "      <td>0</td>\n",
              "      <td>1</td>\n",
              "      <td>0</td>\n",
              "      <td>0</td>\n",
              "      <td>0</td>\n",
              "      <td>3</td>\n",
              "      <td>0</td>\n",
              "      <td>0</td>\n",
              "      <td>1</td>\n",
              "      <td>0</td>\n",
              "      <td>1</td>\n",
              "      <td>10</td>\n",
              "      <td>10</td>\n",
              "      <td>DIV419050428</td>\n",
              "      <td>4</td>\n",
              "      <td>0</td>\n",
              "      <td>0</td>\n",
              "      <td>2</td>\n",
              "      <td>4</td>\n",
              "      <td>2</td>\n",
              "      <td>0</td>\n",
              "      <td>3</td>\n",
              "      <td></td>\n",
              "      <td>NB ROUTE 61</td>\n",
              "      <td>R-VA   SR00061EB</td>\n",
              "      <td>27.52</td>\n",
              "      <td>153215</td>\n",
              "      <td>1272.48</td>\n",
              "      <td>37.244803</td>\n",
              "      <td>-81.097603</td>\n",
              "    </tr>\n",
              "  </tbody>\n",
              "</table>\n",
              "</div>"
            ],
            "text/plain": [
              "   FID   FID_1  DOCUMENT_N  CRASH_YEAR  ...    NODE   OFFSET        LAT        LON\n",
              "0    0  755424   190315149        2019  ...             0.00  36.881032 -76.210326\n",
              "1    1  755425   190855040        2019  ...  483562    10.56  36.892152 -76.228672\n",
              "2    2  755426   192145261        2019  ...  429758   802.56  39.113759 -77.534810\n",
              "3    3  755427   193475098        2019  ...  541256   174.24  36.866187 -76.029270\n",
              "4    4  755428   191555292        2019  ...  153215  1272.48  37.244803 -81.097603\n",
              "\n",
              "[5 rows x 72 columns]"
            ]
          },
          "metadata": {
            "tags": []
          },
          "execution_count": 3
        }
      ]
    },
    {
      "cell_type": "code",
      "metadata": {
        "id": "PXoFmpwxcAjn"
      },
      "source": [
        "speed = speed[['CAR_SPEED_', 'TRUCK_SPEE', 'ROUTE_COMM']]\n",
        "traffic = traffic[['ADT', 'PERCENT_4_', 'PERCENT_BU', 'PERCENT_TR', 'PERCENT__1', 'PERCENT__2', 'PERCENT__3', 'FID', 'ROUTE_COMM', 'ROUTE_NAME']]\n",
        "new = speed.merge(traffic, how='inner', on='ROUTE_COMM')\n",
        "new = new.drop_duplicates(subset=['ROUTE_COMM'])\n",
        "new2 = crashes.merge(new, how='left', left_on='RTE_NM', right_on='ROUTE_NAME')\n",
        "new2.head()\n",
        "crashes = new2\n",
        "crashes = (crashes.drop(labels=['ADT', 'PERCENT_4_', 'PERCENT_BU', 'PERCENT_TR', 'PERCENT__1', 'PERCENT__2', 'PERCENT__3'], axis=1).join(crashes[['ADT', 'PERCENT_4_', 'PERCENT_BU', 'PERCENT_TR', 'PERCENT__1', 'PERCENT__2', 'PERCENT__3']].apply(pd.to_numeric, errors='coerce')))\n",
        "#crashes = crashes.dropna()"
      ],
      "execution_count": null,
      "outputs": []
    },
    {
      "cell_type": "code",
      "metadata": {
        "id": "kAog4POvdNS4",
        "colab": {
          "base_uri": "https://localhost:8080/",
          "height": 378
        },
        "outputId": "72e1fb54-214e-4191-e1d1-c1e01fe3167c"
      },
      "source": [
        "crashes.head(5)"
      ],
      "execution_count": null,
      "outputs": [
        {
          "output_type": "execute_result",
          "data": {
            "text/html": [
              "<div>\n",
              "<style scoped>\n",
              "    .dataframe tbody tr th:only-of-type {\n",
              "        vertical-align: middle;\n",
              "    }\n",
              "\n",
              "    .dataframe tbody tr th {\n",
              "        vertical-align: top;\n",
              "    }\n",
              "\n",
              "    .dataframe thead th {\n",
              "        text-align: right;\n",
              "    }\n",
              "</style>\n",
              "<table border=\"1\" class=\"dataframe\">\n",
              "  <thead>\n",
              "    <tr style=\"text-align: right;\">\n",
              "      <th></th>\n",
              "      <th>FID_x</th>\n",
              "      <th>FID_1</th>\n",
              "      <th>DOCUMENT_N</th>\n",
              "      <th>CRASH_YEAR</th>\n",
              "      <th>CRASH_DT</th>\n",
              "      <th>CRASH_MILI</th>\n",
              "      <th>CRASH_SEVE</th>\n",
              "      <th>K_PEOPLE</th>\n",
              "      <th>A_PEOPLE</th>\n",
              "      <th>B_PEOPLE</th>\n",
              "      <th>C_PEOPLE</th>\n",
              "      <th>PERSONS_IN</th>\n",
              "      <th>PEDESTRIAN</th>\n",
              "      <th>PEDESTRI_1</th>\n",
              "      <th>VEH_COUNT</th>\n",
              "      <th>COLLISION_</th>\n",
              "      <th>WEATHER_CO</th>\n",
              "      <th>LIGHT_COND</th>\n",
              "      <th>RD_TYPE</th>\n",
              "      <th>ROADWAY_SU</th>\n",
              "      <th>RELATION_T</th>\n",
              "      <th>ROADWAY_AL</th>\n",
              "      <th>ROADWAY__1</th>\n",
              "      <th>ROADWAY_DE</th>\n",
              "      <th>ROADWAY__2</th>\n",
              "      <th>INTERSECTI</th>\n",
              "      <th>TRAFFIC_CO</th>\n",
              "      <th>TRFC_CTRL_</th>\n",
              "      <th>WORK_ZONE_</th>\n",
              "      <th>WORK_ZON_1</th>\n",
              "      <th>WORK_ZON_2</th>\n",
              "      <th>FIRST_HARM</th>\n",
              "      <th>FIRST_HA_1</th>\n",
              "      <th>ALCOHOL_NO</th>\n",
              "      <th>BELTED_UNB</th>\n",
              "      <th>BIKE_NONBI</th>\n",
              "      <th>DISTRACTED</th>\n",
              "      <th>DEER_NODEE</th>\n",
              "      <th>DROWSY_NOT</th>\n",
              "      <th>DRUG_NODRU</th>\n",
              "      <th>...</th>\n",
              "      <th>PED_NONPED</th>\n",
              "      <th>RR</th>\n",
              "      <th>SPEED_NOTS</th>\n",
              "      <th>SCHOOL_ZON</th>\n",
              "      <th>SENIOR_NOT</th>\n",
              "      <th>YOUNG_NOTY</th>\n",
              "      <th>MAINLINE_Y</th>\n",
              "      <th>NIGHT</th>\n",
              "      <th>VDOT_DISTR</th>\n",
              "      <th>JURIS_CODE</th>\n",
              "      <th>PHYSICAL_J</th>\n",
              "      <th>LOCAL_CASE</th>\n",
              "      <th>FUN</th>\n",
              "      <th>FAC</th>\n",
              "      <th>AREA_TYPE</th>\n",
              "      <th>SYSTEM</th>\n",
              "      <th>VSP</th>\n",
              "      <th>OWNERSHIP</th>\n",
              "      <th>INTERSEC_1</th>\n",
              "      <th>PLAN_DISTR</th>\n",
              "      <th>MPO_NAME</th>\n",
              "      <th>ROUTE_OR_S</th>\n",
              "      <th>RTE_NM</th>\n",
              "      <th>RNS_MP</th>\n",
              "      <th>NODE</th>\n",
              "      <th>OFFSET</th>\n",
              "      <th>LAT</th>\n",
              "      <th>LON</th>\n",
              "      <th>CAR_SPEED_</th>\n",
              "      <th>TRUCK_SPEE</th>\n",
              "      <th>ROUTE_COMM</th>\n",
              "      <th>FID_y</th>\n",
              "      <th>ROUTE_NAME</th>\n",
              "      <th>ADT</th>\n",
              "      <th>PERCENT_4_</th>\n",
              "      <th>PERCENT_BU</th>\n",
              "      <th>PERCENT_TR</th>\n",
              "      <th>PERCENT__1</th>\n",
              "      <th>PERCENT__2</th>\n",
              "      <th>PERCENT__3</th>\n",
              "    </tr>\n",
              "  </thead>\n",
              "  <tbody>\n",
              "    <tr>\n",
              "      <th>0</th>\n",
              "      <td>0</td>\n",
              "      <td>755424</td>\n",
              "      <td>190315149</td>\n",
              "      <td>2019</td>\n",
              "      <td>1/10/2019 0:00:00</td>\n",
              "      <td>1400</td>\n",
              "      <td>C</td>\n",
              "      <td>0</td>\n",
              "      <td>0</td>\n",
              "      <td>0</td>\n",
              "      <td>2</td>\n",
              "      <td>2</td>\n",
              "      <td>0</td>\n",
              "      <td>0</td>\n",
              "      <td>3</td>\n",
              "      <td>4</td>\n",
              "      <td>1</td>\n",
              "      <td>2</td>\n",
              "      <td>0</td>\n",
              "      <td>1</td>\n",
              "      <td>1</td>\n",
              "      <td>1</td>\n",
              "      <td>2</td>\n",
              "      <td>1</td>\n",
              "      <td>3</td>\n",
              "      <td>1</td>\n",
              "      <td>6</td>\n",
              "      <td>1</td>\n",
              "      <td>2</td>\n",
              "      <td>0</td>\n",
              "      <td>0</td>\n",
              "      <td>20</td>\n",
              "      <td>1</td>\n",
              "      <td>0</td>\n",
              "      <td>0</td>\n",
              "      <td>0</td>\n",
              "      <td>0</td>\n",
              "      <td>0</td>\n",
              "      <td>0</td>\n",
              "      <td>0</td>\n",
              "      <td>...</td>\n",
              "      <td>0</td>\n",
              "      <td>0</td>\n",
              "      <td>0</td>\n",
              "      <td>3</td>\n",
              "      <td>1</td>\n",
              "      <td>0</td>\n",
              "      <td>1</td>\n",
              "      <td>0</td>\n",
              "      <td>5</td>\n",
              "      <td>122</td>\n",
              "      <td>122</td>\n",
              "      <td>DIV519003398</td>\n",
              "      <td>A</td>\n",
              "      <td>3</td>\n",
              "      <td>1</td>\n",
              "      <td>1</td>\n",
              "      <td>5</td>\n",
              "      <td>1</td>\n",
              "      <td>0</td>\n",
              "      <td>23</td>\n",
              "      <td>HAMP</td>\n",
              "      <td>I - 64 WEST</td>\n",
              "      <td>R-VA   IS00064WB</td>\n",
              "      <td>281.67</td>\n",
              "      <td></td>\n",
              "      <td>0.00</td>\n",
              "      <td>36.881032</td>\n",
              "      <td>-76.210326</td>\n",
              "      <td>65.0</td>\n",
              "      <td>65.0</td>\n",
              "      <td>I-64W</td>\n",
              "      <td>34000.0</td>\n",
              "      <td>R-VA   IS00064WB</td>\n",
              "      <td>87000.0</td>\n",
              "      <td>96.69957</td>\n",
              "      <td>0.55188</td>\n",
              "      <td>0.55118</td>\n",
              "      <td>0.33057</td>\n",
              "      <td>1.82993</td>\n",
              "      <td>0.04011</td>\n",
              "    </tr>\n",
              "    <tr>\n",
              "      <th>1</th>\n",
              "      <td>1</td>\n",
              "      <td>755425</td>\n",
              "      <td>190855040</td>\n",
              "      <td>2019</td>\n",
              "      <td>3/16/2019 0:00:00</td>\n",
              "      <td>1522</td>\n",
              "      <td>O</td>\n",
              "      <td>0</td>\n",
              "      <td>0</td>\n",
              "      <td>0</td>\n",
              "      <td>0</td>\n",
              "      <td>0</td>\n",
              "      <td>0</td>\n",
              "      <td>0</td>\n",
              "      <td>2</td>\n",
              "      <td>1</td>\n",
              "      <td>1</td>\n",
              "      <td>2</td>\n",
              "      <td>0</td>\n",
              "      <td>1</td>\n",
              "      <td>1</td>\n",
              "      <td>1</td>\n",
              "      <td>2</td>\n",
              "      <td>1</td>\n",
              "      <td>2</td>\n",
              "      <td>2</td>\n",
              "      <td>3</td>\n",
              "      <td>1</td>\n",
              "      <td>2</td>\n",
              "      <td>0</td>\n",
              "      <td>0</td>\n",
              "      <td>6</td>\n",
              "      <td>1</td>\n",
              "      <td>0</td>\n",
              "      <td>0</td>\n",
              "      <td>0</td>\n",
              "      <td>1</td>\n",
              "      <td>0</td>\n",
              "      <td>0</td>\n",
              "      <td>0</td>\n",
              "      <td>...</td>\n",
              "      <td>0</td>\n",
              "      <td>0</td>\n",
              "      <td>0</td>\n",
              "      <td>3</td>\n",
              "      <td>0</td>\n",
              "      <td>0</td>\n",
              "      <td>1</td>\n",
              "      <td>0</td>\n",
              "      <td>5</td>\n",
              "      <td>122</td>\n",
              "      <td>122</td>\n",
              "      <td>P19031600441</td>\n",
              "      <td>E</td>\n",
              "      <td>1</td>\n",
              "      <td>1</td>\n",
              "      <td>9</td>\n",
              "      <td>5</td>\n",
              "      <td>5</td>\n",
              "      <td>2</td>\n",
              "      <td>23</td>\n",
              "      <td>HAMP</td>\n",
              "      <td>1400 NORVIEW AVE</td>\n",
              "      <td>R-VA   SR00247WB</td>\n",
              "      <td>4.94</td>\n",
              "      <td>483562</td>\n",
              "      <td>10.56</td>\n",
              "      <td>36.892152</td>\n",
              "      <td>-76.228672</td>\n",
              "      <td>NaN</td>\n",
              "      <td>NaN</td>\n",
              "      <td>NaN</td>\n",
              "      <td>NaN</td>\n",
              "      <td>NaN</td>\n",
              "      <td>NaN</td>\n",
              "      <td>NaN</td>\n",
              "      <td>NaN</td>\n",
              "      <td>NaN</td>\n",
              "      <td>NaN</td>\n",
              "      <td>NaN</td>\n",
              "      <td>NaN</td>\n",
              "    </tr>\n",
              "    <tr>\n",
              "      <th>2</th>\n",
              "      <td>2</td>\n",
              "      <td>755426</td>\n",
              "      <td>192145261</td>\n",
              "      <td>2019</td>\n",
              "      <td>8/2/2019 0:00:00</td>\n",
              "      <td>1301</td>\n",
              "      <td>O</td>\n",
              "      <td>0</td>\n",
              "      <td>0</td>\n",
              "      <td>0</td>\n",
              "      <td>0</td>\n",
              "      <td>0</td>\n",
              "      <td>0</td>\n",
              "      <td>0</td>\n",
              "      <td>2</td>\n",
              "      <td>2</td>\n",
              "      <td>1</td>\n",
              "      <td>2</td>\n",
              "      <td>0</td>\n",
              "      <td>1</td>\n",
              "      <td>8</td>\n",
              "      <td>1</td>\n",
              "      <td>2</td>\n",
              "      <td>1</td>\n",
              "      <td>2</td>\n",
              "      <td>1</td>\n",
              "      <td>4</td>\n",
              "      <td>1</td>\n",
              "      <td>2</td>\n",
              "      <td>0</td>\n",
              "      <td>0</td>\n",
              "      <td>20</td>\n",
              "      <td>1</td>\n",
              "      <td>0</td>\n",
              "      <td>0</td>\n",
              "      <td>0</td>\n",
              "      <td>0</td>\n",
              "      <td>0</td>\n",
              "      <td>0</td>\n",
              "      <td>0</td>\n",
              "      <td>...</td>\n",
              "      <td>0</td>\n",
              "      <td>0</td>\n",
              "      <td>1</td>\n",
              "      <td>3</td>\n",
              "      <td>0</td>\n",
              "      <td>0</td>\n",
              "      <td>1</td>\n",
              "      <td>0</td>\n",
              "      <td>9</td>\n",
              "      <td>253</td>\n",
              "      <td>253</td>\n",
              "      <td>2019-00027407</td>\n",
              "      <td>I</td>\n",
              "      <td>1</td>\n",
              "      <td>1</td>\n",
              "      <td>9</td>\n",
              "      <td>7</td>\n",
              "      <td>6</td>\n",
              "      <td>0</td>\n",
              "      <td>8</td>\n",
              "      <td>NOVA</td>\n",
              "      <td>EDWARDS FERRY ROAD</td>\n",
              "      <td>R-VA253UR04208WB</td>\n",
              "      <td>1.53</td>\n",
              "      <td>429758</td>\n",
              "      <td>802.56</td>\n",
              "      <td>39.113759</td>\n",
              "      <td>-77.534810</td>\n",
              "      <td>NaN</td>\n",
              "      <td>NaN</td>\n",
              "      <td>NaN</td>\n",
              "      <td>NaN</td>\n",
              "      <td>NaN</td>\n",
              "      <td>NaN</td>\n",
              "      <td>NaN</td>\n",
              "      <td>NaN</td>\n",
              "      <td>NaN</td>\n",
              "      <td>NaN</td>\n",
              "      <td>NaN</td>\n",
              "      <td>NaN</td>\n",
              "    </tr>\n",
              "    <tr>\n",
              "      <th>3</th>\n",
              "      <td>3</td>\n",
              "      <td>755427</td>\n",
              "      <td>193475098</td>\n",
              "      <td>2019</td>\n",
              "      <td>12/11/2019 0:00:00</td>\n",
              "      <td>1158</td>\n",
              "      <td>B</td>\n",
              "      <td>0</td>\n",
              "      <td>0</td>\n",
              "      <td>1</td>\n",
              "      <td>0</td>\n",
              "      <td>1</td>\n",
              "      <td>0</td>\n",
              "      <td>0</td>\n",
              "      <td>2</td>\n",
              "      <td>2</td>\n",
              "      <td>1</td>\n",
              "      <td>2</td>\n",
              "      <td>0</td>\n",
              "      <td>1</td>\n",
              "      <td>13</td>\n",
              "      <td>1</td>\n",
              "      <td>1</td>\n",
              "      <td>1</td>\n",
              "      <td>3</td>\n",
              "      <td>1</td>\n",
              "      <td>1</td>\n",
              "      <td>6</td>\n",
              "      <td>2</td>\n",
              "      <td>0</td>\n",
              "      <td>0</td>\n",
              "      <td>20</td>\n",
              "      <td>7</td>\n",
              "      <td>0</td>\n",
              "      <td>0</td>\n",
              "      <td>1</td>\n",
              "      <td>0</td>\n",
              "      <td>0</td>\n",
              "      <td>0</td>\n",
              "      <td>0</td>\n",
              "      <td>...</td>\n",
              "      <td>0</td>\n",
              "      <td>0</td>\n",
              "      <td>0</td>\n",
              "      <td>3</td>\n",
              "      <td>0</td>\n",
              "      <td>0</td>\n",
              "      <td>1</td>\n",
              "      <td>0</td>\n",
              "      <td>5</td>\n",
              "      <td>134</td>\n",
              "      <td>134</td>\n",
              "      <td>2019046859</td>\n",
              "      <td>H</td>\n",
              "      <td>1</td>\n",
              "      <td>1</td>\n",
              "      <td>9</td>\n",
              "      <td>5</td>\n",
              "      <td>6</td>\n",
              "      <td>2</td>\n",
              "      <td>23</td>\n",
              "      <td>HAMP</td>\n",
              "      <td>1100 FIRST COLONIAL ROAD</td>\n",
              "      <td>R-VA134UR00009NB</td>\n",
              "      <td>1.73</td>\n",
              "      <td>541256</td>\n",
              "      <td>174.24</td>\n",
              "      <td>36.866187</td>\n",
              "      <td>-76.029270</td>\n",
              "      <td>NaN</td>\n",
              "      <td>NaN</td>\n",
              "      <td>NaN</td>\n",
              "      <td>NaN</td>\n",
              "      <td>NaN</td>\n",
              "      <td>NaN</td>\n",
              "      <td>NaN</td>\n",
              "      <td>NaN</td>\n",
              "      <td>NaN</td>\n",
              "      <td>NaN</td>\n",
              "      <td>NaN</td>\n",
              "      <td>NaN</td>\n",
              "    </tr>\n",
              "    <tr>\n",
              "      <th>4</th>\n",
              "      <td>4</td>\n",
              "      <td>755428</td>\n",
              "      <td>191555292</td>\n",
              "      <td>2019</td>\n",
              "      <td>6/2/2019 0:00:00</td>\n",
              "      <td>1700</td>\n",
              "      <td>A</td>\n",
              "      <td>0</td>\n",
              "      <td>1</td>\n",
              "      <td>0</td>\n",
              "      <td>0</td>\n",
              "      <td>1</td>\n",
              "      <td>0</td>\n",
              "      <td>0</td>\n",
              "      <td>1</td>\n",
              "      <td>9</td>\n",
              "      <td>1</td>\n",
              "      <td>2</td>\n",
              "      <td>2</td>\n",
              "      <td>1</td>\n",
              "      <td>8</td>\n",
              "      <td>1</td>\n",
              "      <td>2</td>\n",
              "      <td>1</td>\n",
              "      <td>1</td>\n",
              "      <td>1</td>\n",
              "      <td>7</td>\n",
              "      <td>1</td>\n",
              "      <td>2</td>\n",
              "      <td>0</td>\n",
              "      <td>0</td>\n",
              "      <td>1</td>\n",
              "      <td>4</td>\n",
              "      <td>0</td>\n",
              "      <td>0</td>\n",
              "      <td>0</td>\n",
              "      <td>0</td>\n",
              "      <td>0</td>\n",
              "      <td>0</td>\n",
              "      <td>0</td>\n",
              "      <td>...</td>\n",
              "      <td>0</td>\n",
              "      <td>0</td>\n",
              "      <td>0</td>\n",
              "      <td>3</td>\n",
              "      <td>0</td>\n",
              "      <td>0</td>\n",
              "      <td>1</td>\n",
              "      <td>0</td>\n",
              "      <td>1</td>\n",
              "      <td>10</td>\n",
              "      <td>10</td>\n",
              "      <td>DIV419050428</td>\n",
              "      <td>4</td>\n",
              "      <td>0</td>\n",
              "      <td>0</td>\n",
              "      <td>2</td>\n",
              "      <td>4</td>\n",
              "      <td>2</td>\n",
              "      <td>0</td>\n",
              "      <td>3</td>\n",
              "      <td></td>\n",
              "      <td>NB ROUTE 61</td>\n",
              "      <td>R-VA   SR00061EB</td>\n",
              "      <td>27.52</td>\n",
              "      <td>153215</td>\n",
              "      <td>1272.48</td>\n",
              "      <td>37.244803</td>\n",
              "      <td>-81.097603</td>\n",
              "      <td>55.0</td>\n",
              "      <td>55.0</td>\n",
              "      <td>VA-61E</td>\n",
              "      <td>78550.0</td>\n",
              "      <td>R-VA   SR00061EB</td>\n",
              "      <td>6000.0</td>\n",
              "      <td>97.68389</td>\n",
              "      <td>0.30516</td>\n",
              "      <td>0.75117</td>\n",
              "      <td>0.30517</td>\n",
              "      <td>0.95462</td>\n",
              "      <td>0.00000</td>\n",
              "    </tr>\n",
              "  </tbody>\n",
              "</table>\n",
              "<p>5 rows × 84 columns</p>\n",
              "</div>"
            ],
            "text/plain": [
              "   FID_x   FID_1  DOCUMENT_N  ...  PERCENT__1 PERCENT__2  PERCENT__3\n",
              "0      0  755424   190315149  ...     0.33057    1.82993     0.04011\n",
              "1      1  755425   190855040  ...         NaN        NaN         NaN\n",
              "2      2  755426   192145261  ...         NaN        NaN         NaN\n",
              "3      3  755427   193475098  ...         NaN        NaN         NaN\n",
              "4      4  755428   191555292  ...     0.30517    0.95462     0.00000\n",
              "\n",
              "[5 rows x 84 columns]"
            ]
          },
          "metadata": {
            "tags": []
          },
          "execution_count": 5
        }
      ]
    },
    {
      "cell_type": "code",
      "metadata": {
        "id": "OZPGS9Xccxl_",
        "colab": {
          "base_uri": "https://localhost:8080/"
        },
        "outputId": "2e9bcb23-f9ed-4f24-8a0b-2754d5098930"
      },
      "source": [
        "len(new2)"
      ],
      "execution_count": null,
      "outputs": [
        {
          "output_type": "execute_result",
          "data": {
            "text/plain": [
              "128164"
            ]
          },
          "metadata": {
            "tags": []
          },
          "execution_count": 6
        }
      ]
    },
    {
      "cell_type": "code",
      "metadata": {
        "id": "3u_Wu9SUEKTc"
      },
      "source": [
        "# Select relevant features\n",
        "selected_all = crashes[['CRASH_SEVE', 'VEH_COUNT', 'COLLISION_', 'WEATHER_CO', 'LIGHT_COND', 'ROADWAY_SU', 'RD_TYPE', 'INTERSECTI', 'TRAFFIC_CO', 'WORK_ZONE_', 'ALCOHOL_NO', 'BELTED_UNB', 'DISTRACTED', 'DEER_NODEE', 'DROWSY_NOT', 'DRUG_NODRU', 'LGTRUCK_NO', 'MOTOR_NONM', 'PED_NONPED', 'SPEED_NOTS', 'SCHOOL_ZON', 'SENIOR_NOT', 'YOUNG_NOTY', 'NIGHT', 'VDOT_DISTR', 'CAR_SPEED_', 'TRUCK_SPEE', 'ADT', 'PERCENT_4_', 'PERCENT_BU', 'PERCENT_TR', 'PERCENT__1', 'PERCENT__2', 'PERCENT__3']]\n",
        "selected = selected_all\n",
        "selected.head()\n",
        "# Train-Test Split\n",
        "train, test = train_test_split(selected, test_size=0.2, random_state=42)#, stratify = selected['CRASH_SEVE'])\n",
        "y_train_full = train['CRASH_SEVE'].copy()\n",
        "X_train_pre = train.drop(\"CRASH_SEVE\", axis=1)"
      ],
      "execution_count": null,
      "outputs": []
    },
    {
      "cell_type": "code",
      "metadata": {
        "id": "kDyLUYhIc7No",
        "colab": {
          "base_uri": "https://localhost:8080/",
          "height": 215
        },
        "outputId": "07dd425f-11e7-4b55-dcc5-604c6a7ab04f"
      },
      "source": [
        "selected_all.head()"
      ],
      "execution_count": null,
      "outputs": [
        {
          "output_type": "execute_result",
          "data": {
            "text/html": [
              "<div>\n",
              "<style scoped>\n",
              "    .dataframe tbody tr th:only-of-type {\n",
              "        vertical-align: middle;\n",
              "    }\n",
              "\n",
              "    .dataframe tbody tr th {\n",
              "        vertical-align: top;\n",
              "    }\n",
              "\n",
              "    .dataframe thead th {\n",
              "        text-align: right;\n",
              "    }\n",
              "</style>\n",
              "<table border=\"1\" class=\"dataframe\">\n",
              "  <thead>\n",
              "    <tr style=\"text-align: right;\">\n",
              "      <th></th>\n",
              "      <th>CRASH_SEVE</th>\n",
              "      <th>VEH_COUNT</th>\n",
              "      <th>COLLISION_</th>\n",
              "      <th>WEATHER_CO</th>\n",
              "      <th>LIGHT_COND</th>\n",
              "      <th>ROADWAY_SU</th>\n",
              "      <th>RD_TYPE</th>\n",
              "      <th>INTERSECTI</th>\n",
              "      <th>TRAFFIC_CO</th>\n",
              "      <th>WORK_ZONE_</th>\n",
              "      <th>ALCOHOL_NO</th>\n",
              "      <th>BELTED_UNB</th>\n",
              "      <th>DISTRACTED</th>\n",
              "      <th>DEER_NODEE</th>\n",
              "      <th>DROWSY_NOT</th>\n",
              "      <th>DRUG_NODRU</th>\n",
              "      <th>LGTRUCK_NO</th>\n",
              "      <th>MOTOR_NONM</th>\n",
              "      <th>PED_NONPED</th>\n",
              "      <th>SPEED_NOTS</th>\n",
              "      <th>SCHOOL_ZON</th>\n",
              "      <th>SENIOR_NOT</th>\n",
              "      <th>YOUNG_NOTY</th>\n",
              "      <th>NIGHT</th>\n",
              "      <th>VDOT_DISTR</th>\n",
              "      <th>CAR_SPEED_</th>\n",
              "      <th>TRUCK_SPEE</th>\n",
              "      <th>ADT</th>\n",
              "      <th>PERCENT_4_</th>\n",
              "      <th>PERCENT_BU</th>\n",
              "      <th>PERCENT_TR</th>\n",
              "      <th>PERCENT__1</th>\n",
              "      <th>PERCENT__2</th>\n",
              "      <th>PERCENT__3</th>\n",
              "    </tr>\n",
              "  </thead>\n",
              "  <tbody>\n",
              "    <tr>\n",
              "      <th>0</th>\n",
              "      <td>C</td>\n",
              "      <td>3</td>\n",
              "      <td>4</td>\n",
              "      <td>1</td>\n",
              "      <td>2</td>\n",
              "      <td>1</td>\n",
              "      <td>0</td>\n",
              "      <td>1</td>\n",
              "      <td>6</td>\n",
              "      <td>2</td>\n",
              "      <td>0</td>\n",
              "      <td>0</td>\n",
              "      <td>0</td>\n",
              "      <td>0</td>\n",
              "      <td>0</td>\n",
              "      <td>0</td>\n",
              "      <td>1</td>\n",
              "      <td>0</td>\n",
              "      <td>0</td>\n",
              "      <td>0</td>\n",
              "      <td>3</td>\n",
              "      <td>1</td>\n",
              "      <td>0</td>\n",
              "      <td>0</td>\n",
              "      <td>5</td>\n",
              "      <td>65.0</td>\n",
              "      <td>65.0</td>\n",
              "      <td>87000.0</td>\n",
              "      <td>96.69957</td>\n",
              "      <td>0.55188</td>\n",
              "      <td>0.55118</td>\n",
              "      <td>0.33057</td>\n",
              "      <td>1.82993</td>\n",
              "      <td>0.04011</td>\n",
              "    </tr>\n",
              "    <tr>\n",
              "      <th>1</th>\n",
              "      <td>O</td>\n",
              "      <td>2</td>\n",
              "      <td>1</td>\n",
              "      <td>1</td>\n",
              "      <td>2</td>\n",
              "      <td>1</td>\n",
              "      <td>0</td>\n",
              "      <td>2</td>\n",
              "      <td>3</td>\n",
              "      <td>2</td>\n",
              "      <td>0</td>\n",
              "      <td>0</td>\n",
              "      <td>1</td>\n",
              "      <td>0</td>\n",
              "      <td>0</td>\n",
              "      <td>0</td>\n",
              "      <td>0</td>\n",
              "      <td>0</td>\n",
              "      <td>0</td>\n",
              "      <td>0</td>\n",
              "      <td>3</td>\n",
              "      <td>0</td>\n",
              "      <td>0</td>\n",
              "      <td>0</td>\n",
              "      <td>5</td>\n",
              "      <td>NaN</td>\n",
              "      <td>NaN</td>\n",
              "      <td>NaN</td>\n",
              "      <td>NaN</td>\n",
              "      <td>NaN</td>\n",
              "      <td>NaN</td>\n",
              "      <td>NaN</td>\n",
              "      <td>NaN</td>\n",
              "      <td>NaN</td>\n",
              "    </tr>\n",
              "    <tr>\n",
              "      <th>2</th>\n",
              "      <td>O</td>\n",
              "      <td>2</td>\n",
              "      <td>2</td>\n",
              "      <td>1</td>\n",
              "      <td>2</td>\n",
              "      <td>1</td>\n",
              "      <td>0</td>\n",
              "      <td>1</td>\n",
              "      <td>4</td>\n",
              "      <td>2</td>\n",
              "      <td>0</td>\n",
              "      <td>0</td>\n",
              "      <td>0</td>\n",
              "      <td>0</td>\n",
              "      <td>0</td>\n",
              "      <td>0</td>\n",
              "      <td>0</td>\n",
              "      <td>0</td>\n",
              "      <td>0</td>\n",
              "      <td>1</td>\n",
              "      <td>3</td>\n",
              "      <td>0</td>\n",
              "      <td>0</td>\n",
              "      <td>0</td>\n",
              "      <td>9</td>\n",
              "      <td>NaN</td>\n",
              "      <td>NaN</td>\n",
              "      <td>NaN</td>\n",
              "      <td>NaN</td>\n",
              "      <td>NaN</td>\n",
              "      <td>NaN</td>\n",
              "      <td>NaN</td>\n",
              "      <td>NaN</td>\n",
              "      <td>NaN</td>\n",
              "    </tr>\n",
              "    <tr>\n",
              "      <th>3</th>\n",
              "      <td>B</td>\n",
              "      <td>2</td>\n",
              "      <td>2</td>\n",
              "      <td>1</td>\n",
              "      <td>2</td>\n",
              "      <td>1</td>\n",
              "      <td>0</td>\n",
              "      <td>1</td>\n",
              "      <td>1</td>\n",
              "      <td>2</td>\n",
              "      <td>0</td>\n",
              "      <td>0</td>\n",
              "      <td>0</td>\n",
              "      <td>0</td>\n",
              "      <td>0</td>\n",
              "      <td>0</td>\n",
              "      <td>0</td>\n",
              "      <td>0</td>\n",
              "      <td>0</td>\n",
              "      <td>0</td>\n",
              "      <td>3</td>\n",
              "      <td>0</td>\n",
              "      <td>0</td>\n",
              "      <td>0</td>\n",
              "      <td>5</td>\n",
              "      <td>NaN</td>\n",
              "      <td>NaN</td>\n",
              "      <td>NaN</td>\n",
              "      <td>NaN</td>\n",
              "      <td>NaN</td>\n",
              "      <td>NaN</td>\n",
              "      <td>NaN</td>\n",
              "      <td>NaN</td>\n",
              "      <td>NaN</td>\n",
              "    </tr>\n",
              "    <tr>\n",
              "      <th>4</th>\n",
              "      <td>A</td>\n",
              "      <td>1</td>\n",
              "      <td>9</td>\n",
              "      <td>1</td>\n",
              "      <td>2</td>\n",
              "      <td>1</td>\n",
              "      <td>2</td>\n",
              "      <td>1</td>\n",
              "      <td>7</td>\n",
              "      <td>2</td>\n",
              "      <td>0</td>\n",
              "      <td>0</td>\n",
              "      <td>0</td>\n",
              "      <td>0</td>\n",
              "      <td>0</td>\n",
              "      <td>0</td>\n",
              "      <td>0</td>\n",
              "      <td>1</td>\n",
              "      <td>0</td>\n",
              "      <td>0</td>\n",
              "      <td>3</td>\n",
              "      <td>0</td>\n",
              "      <td>0</td>\n",
              "      <td>0</td>\n",
              "      <td>1</td>\n",
              "      <td>55.0</td>\n",
              "      <td>55.0</td>\n",
              "      <td>6000.0</td>\n",
              "      <td>97.68389</td>\n",
              "      <td>0.30516</td>\n",
              "      <td>0.75117</td>\n",
              "      <td>0.30517</td>\n",
              "      <td>0.95462</td>\n",
              "      <td>0.00000</td>\n",
              "    </tr>\n",
              "  </tbody>\n",
              "</table>\n",
              "</div>"
            ],
            "text/plain": [
              "  CRASH_SEVE  VEH_COUNT  COLLISION_  ...  PERCENT__1  PERCENT__2  PERCENT__3\n",
              "0          C          3           4  ...     0.33057     1.82993     0.04011\n",
              "1          O          2           1  ...         NaN         NaN         NaN\n",
              "2          O          2           2  ...         NaN         NaN         NaN\n",
              "3          B          2           2  ...         NaN         NaN         NaN\n",
              "4          A          1           9  ...     0.30517     0.95462     0.00000\n",
              "\n",
              "[5 rows x 34 columns]"
            ]
          },
          "metadata": {
            "tags": []
          },
          "execution_count": 8
        }
      ]
    },
    {
      "cell_type": "code",
      "metadata": {
        "id": "3a3XEMfTD8E7"
      },
      "source": [
        "# Numerical Pipeline\n",
        "num_pipeline = Pipeline([\n",
        "        ('imputer', SimpleImputer(strategy=\"median\")),\n",
        "        ('std_scaler', StandardScaler())\n",
        "    ])"
      ],
      "execution_count": null,
      "outputs": []
    },
    {
      "cell_type": "code",
      "metadata": {
        "id": "lAJUY5cSKdE3"
      },
      "source": [
        "cat_attribs = ['WEATHER_CO', 'LIGHT_COND', 'ROADWAY_SU', 'RD_TYPE', 'TRAFFIC_CO', 'WORK_ZONE_', 'SCHOOL_ZON']\n",
        "X_train_num = X_train_pre.drop(cat_attribs, axis=1)\n",
        "X_train_cat = X_train_pre[cat_attribs].copy()\n",
        "#X_train_num = X_train_num[X_train_num.apply(lambda x: x.isnumeric())]\n",
        "num_attribs = list(X_train_num)\n",
        "\n",
        "full_pipeline = ColumnTransformer([\n",
        "        (\"num\", num_pipeline, num_attribs),\n",
        "        (\"cat\", OneHotEncoder(), cat_attribs),\n",
        "    ])\n",
        "\n",
        "X_train_full = full_pipeline.fit_transform(X_train_num.join(X_train_cat))"
      ],
      "execution_count": null,
      "outputs": []
    },
    {
      "cell_type": "code",
      "metadata": {
        "id": "oRudV1p2PfaQ",
        "colab": {
          "base_uri": "https://localhost:8080/"
        },
        "outputId": "6a5a7a0f-fbe3-4148-b153-909617237b1e"
      },
      "source": [
        "print(X_train_pre.shape)\n",
        "print(X_train_full.shape)"
      ],
      "execution_count": null,
      "outputs": [
        {
          "output_type": "stream",
          "text": [
            "(102531, 33)\n",
            "(102531, 80)\n"
          ],
          "name": "stdout"
        }
      ]
    },
    {
      "cell_type": "code",
      "metadata": {
        "id": "ePI2380-ROo4"
      },
      "source": [
        "# turns y__train / y_test into vectors of ints\n",
        "# \"K\" = 0, \"A\" = 1, \"B\" = 2, \"C\" = 3, \"O\" = 4\n",
        "def strToInt(y):\n",
        "    newList = []\n",
        "    table = {'K':0,'A':1,'B':2,'C':3,'O':4}\n",
        "    for i in y:\n",
        "        newList.append(table[i])\n",
        "    return np.array(newList)\n",
        "    \n",
        "def strToIntBinary(y):\n",
        "    newList = []\n",
        "    table = {'K':1,'A':1,'B':0,'C':0,'O':0}\n",
        "    for i in y:\n",
        "        newList.append(table[i])\n",
        "    return np.array(newList)"
      ],
      "execution_count": null,
      "outputs": []
    },
    {
      "cell_type": "code",
      "metadata": {
        "id": "jYnz3AlTQ5to",
        "colab": {
          "base_uri": "https://localhost:8080/"
        },
        "outputId": "d9122543-3a6a-4c6c-cc6d-98624afa7bb0"
      },
      "source": [
        "\n",
        "y_test_pre = test['CRASH_SEVE'].copy()\n",
        "\n",
        "X_test = test.drop(\"CRASH_SEVE\", axis=1)\n",
        "X_test = full_pipeline.transform(X_test)\n",
        "\n",
        "print(X_train_full.shape)\n",
        "print(y_train_full.shape)\n",
        "\n",
        "'''# undersample\n",
        "undersample = RandomUnderSampler(sampling_strategy='not minority')\n",
        "X_train, y_train = undersample.fit_resample(X_train_full, y_train_full)\n",
        "'''\n",
        "'''# oversample\n",
        "\n",
        "print(y_train_full)\n",
        "X_train, y_train = oversample.fit_resample(X_train_full, y_train_full)\n",
        "X_train, y_train = X_train_full, y_train_full'''\n",
        "\n",
        "oversample = RandomOverSampler(sampling_strategy='not majority')  #={'K':20000,'A':20000,'C':20000})\n",
        "\n",
        "y_train_full_pre = strToIntBinary(y_train_full)\n",
        "y_test = strToIntBinary(y_test_pre)\n",
        "\n",
        "X_train, y_train = oversample.fit_resample(X_train_full, y_train_full_pre)\n",
        "#X_train, y_train = X_train_full, y_train_full_pre\n",
        "print(X_train.shape)\n",
        "print(y_train.shape)\n",
        "print(X_test.shape)\n",
        "print(y_test.shape)"
      ],
      "execution_count": null,
      "outputs": [
        {
          "output_type": "stream",
          "text": [
            "(102531, 80)\n",
            "(102531,)\n",
            "(194552, 80)\n",
            "(194552,)\n",
            "(25633, 80)\n",
            "(25633,)\n"
          ],
          "name": "stdout"
        },
        {
          "output_type": "stream",
          "text": [
            "/usr/local/lib/python3.6/dist-packages/sklearn/compose/_column_transformer.py:430: FutureWarning: Given feature/column names or counts do not match the ones for the data given during fit. This will fail from v0.24.\n",
            "  FutureWarning)\n",
            "/usr/local/lib/python3.6/dist-packages/sklearn/utils/deprecation.py:87: FutureWarning: Function safe_indexing is deprecated; safe_indexing is deprecated in version 0.22 and will be removed in version 0.24.\n",
            "  warnings.warn(msg, category=FutureWarning)\n"
          ],
          "name": "stderr"
        }
      ]
    },
    {
      "cell_type": "code",
      "metadata": {
        "id": "ZblOFYSYZOQZ",
        "colab": {
          "base_uri": "https://localhost:8080/"
        },
        "outputId": "adc62512-a8c6-4b21-d9c7-8fdcbaa7d64e"
      },
      "source": [
        "import collections\n",
        "counter=collections.Counter(y_test)\n",
        "print(counter)\n",
        "print(counter.values())\n",
        "counter=collections.Counter(y_train)\n",
        "print(counter)\n",
        "print(counter.values())"
      ],
      "execution_count": null,
      "outputs": [
        {
          "output_type": "stream",
          "text": [
            "Counter({0: 24286, 1: 1347})\n",
            "dict_values([24286, 1347])\n",
            "Counter({0: 97276, 1: 97276})\n",
            "dict_values([97276, 97276])\n"
          ],
          "name": "stdout"
        }
      ]
    },
    {
      "cell_type": "code",
      "metadata": {
        "id": "FN1JbrW6hV-9"
      },
      "source": [
        "def print_metrics(yt, yp):\n",
        "    print('Accuracy:', accuracy_score(yt, yp))\n",
        "    print('Recall:', recall_score(yt, yp, average = 'weighted'))\n",
        "    print('Precision:', precision_score(yt, yp, average = 'weighted'))\n",
        "    print('F1 Score:', f1_score(yt, yp, average = 'weighted'))"
      ],
      "execution_count": null,
      "outputs": []
    },
    {
      "cell_type": "markdown",
      "metadata": {
        "id": "CxrquVWUQ6yZ"
      },
      "source": [
        "# Logistic Regression\n"
      ]
    },
    {
      "cell_type": "code",
      "metadata": {
        "id": "UgRknk16BfQU",
        "colab": {
          "base_uri": "https://localhost:8080/"
        },
        "outputId": "592f4f0f-989d-4a85-c80f-5c3c2d0ab935"
      },
      "source": [
        "from sklearn.linear_model import LogisticRegression\n",
        "from sklearn.datasets import make_multilabel_classification\n",
        "from sklearn.multiclass import OneVsOneClassifier\n",
        "\n",
        "# Training\n",
        "log_reg = LogisticRegression(max_iter = 10000,class_weight={0:5,1:5})#, multi_class='multinomial')\n",
        "\n",
        "log_reg.fit(X_train, y_train)"
      ],
      "execution_count": null,
      "outputs": [
        {
          "output_type": "execute_result",
          "data": {
            "text/plain": [
              "LogisticRegression(C=1.0, class_weight={0: 5, 1: 5}, dual=False,\n",
              "                   fit_intercept=True, intercept_scaling=1, l1_ratio=None,\n",
              "                   max_iter=10000, multi_class='auto', n_jobs=None,\n",
              "                   penalty='l2', random_state=None, solver='lbfgs', tol=0.0001,\n",
              "                   verbose=0, warm_start=False)"
            ]
          },
          "metadata": {
            "tags": []
          },
          "execution_count": 16
        }
      ]
    },
    {
      "cell_type": "code",
      "metadata": {
        "id": "mFoLNdQIU_qf",
        "colab": {
          "base_uri": "https://localhost:8080/"
        },
        "outputId": "d330f0e1-cda5-4c5c-9ffd-05e7ec273195"
      },
      "source": [
        "\n",
        "# Prediction\n",
        "y_predict = log_reg.predict(X_test)\n",
        "confusion_matrix(y_test, y_predict)\n",
        "y_train_predict = log_reg.predict(X_train)\n",
        "confusion_matrix(y_train, y_train_predict)"
      ],
      "execution_count": null,
      "outputs": [
        {
          "output_type": "execute_result",
          "data": {
            "text/plain": [
              "array([[79550, 17726],\n",
              "       [36320, 60956]])"
            ]
          },
          "metadata": {
            "tags": []
          },
          "execution_count": 17
        }
      ]
    },
    {
      "cell_type": "code",
      "metadata": {
        "id": "Xtv2oa-CMhbp",
        "colab": {
          "base_uri": "https://localhost:8080/"
        },
        "outputId": "3bd9ce4c-3238-40da-a7f5-05775c00f6f4"
      },
      "source": [
        "confusion_matrix(y_test, y_predict) #labels=[\"K\", \"A\", \"B\", \"C\", \"O\"])"
      ],
      "execution_count": null,
      "outputs": [
        {
          "output_type": "execute_result",
          "data": {
            "text/plain": [
              "array([[19805,  4481],\n",
              "       [  492,   855]])"
            ]
          },
          "metadata": {
            "tags": []
          },
          "execution_count": 18
        }
      ]
    },
    {
      "cell_type": "code",
      "metadata": {
        "id": "F1czaDc2SS_v",
        "colab": {
          "base_uri": "https://localhost:8080/"
        },
        "outputId": "d19095d4-f12d-4936-94fd-4db69a5cb1a9"
      },
      "source": [
        "f1_score(y_test, y_predict, average='weighted')"
      ],
      "execution_count": null,
      "outputs": [
        {
          "output_type": "execute_result",
          "data": {
            "text/plain": [
              "0.8552133990599035"
            ]
          },
          "metadata": {
            "tags": []
          },
          "execution_count": 19
        }
      ]
    },
    {
      "cell_type": "code",
      "metadata": {
        "id": "spm9AwsIgpoh",
        "colab": {
          "base_uri": "https://localhost:8080/"
        },
        "outputId": "53c30714-691e-421e-948e-a8b68041b6d9"
      },
      "source": [
        "print_metrics(y_test, y_predict)"
      ],
      "execution_count": null,
      "outputs": [
        {
          "output_type": "stream",
          "text": [
            "Accuracy: 0.8059922755822573\n",
            "Recall: 0.8059922755822573\n",
            "Precision: 0.9329044403498156\n",
            "F1 Score: 0.8552133990599035\n"
          ],
          "name": "stdout"
        }
      ]
    },
    {
      "cell_type": "code",
      "metadata": {
        "id": "Zu1RPMLMS0YW",
        "colab": {
          "base_uri": "https://localhost:8080/",
          "height": 296
        },
        "outputId": "3d92c44e-f58c-4146-b517-f9aaba51129c"
      },
      "source": [
        "plot_confusion_matrix(log_reg, X_test, y_test)"
      ],
      "execution_count": null,
      "outputs": [
        {
          "output_type": "execute_result",
          "data": {
            "text/plain": [
              "<sklearn.metrics._plot.confusion_matrix.ConfusionMatrixDisplay at 0x7f54514b6588>"
            ]
          },
          "metadata": {
            "tags": []
          },
          "execution_count": 21
        },
        {
          "output_type": "display_data",
          "data": {
            "image/png": "[encoded data removed]",
            "text/plain": [
              "<Figure size 432x288 with 2 Axes>"
            ]
          },
          "metadata": {
            "tags": [],
            "needs_background": "light"
          }
        }
      ]
    },
    {
      "cell_type": "markdown",
      "metadata": {
        "id": "CYB-CD0DM69s"
      },
      "source": [
        "# SVM"
      ]
    },
    {
      "cell_type": "code",
      "metadata": {
        "id": "Dnrh8ieIjVfj",
        "colab": {
          "base_uri": "https://localhost:8080/",
          "height": 69
        },
        "outputId": "03cc15ad-ced9-41da-e4c9-186df872a4b6"
      },
      "source": [
        "'''from sklearn.svm import SVC\n",
        "rbf_clf = SVC(kernel='linear')\n",
        "rbf_clf.fit(X_train, y_train)\n",
        "y_pred = rbf_clf.predict(X_test)\n",
        "print(classification_report(y_test, y_pred))\n",
        "\n",
        "print('Recall:', recall_score(y_test, y_pred))\n",
        "print('Precision:', precision_score(y_test, y_pred))\n",
        "\n",
        "plot_confusion_matrix(rbf_clf, X_test, y_test)\n",
        "plt.show()'''"
      ],
      "execution_count": null,
      "outputs": [
        {
          "output_type": "execute_result",
          "data": {
            "application/vnd.google.colaboratory.intrinsic+json": {
              "type": "string"
            },
            "text/plain": [
              "\"from sklearn.svm import SVC\\nrbf_clf = SVC(kernel='linear')\\nrbf_clf.fit(X_train, y_train)\\ny_pred = rbf_clf.predict(X_test)\\nprint(classification_report(y_test, y_pred))\\n\\nprint('Recall:', recall_score(y_test, y_pred))\\nprint('Precision:', precision_score(y_test, y_pred))\\n\\nplot_confusion_matrix(rbf_clf, X_test, y_test)\\nplt.show()\""
            ]
          },
          "metadata": {
            "tags": []
          },
          "execution_count": 38
        }
      ]
    },
    {
      "cell_type": "markdown",
      "metadata": {
        "id": "e3EIXCbSHglv"
      },
      "source": [
        "\n",
        "# K Nearest Neighbors"
      ]
    },
    {
      "cell_type": "code",
      "metadata": {
        "id": "TnSm8cX7HjRx",
        "colab": {
          "base_uri": "https://localhost:8080/",
          "height": 52
        },
        "outputId": "697c6a58-2322-485a-fc42-11f84df0407f"
      },
      "source": [
        "'''from sklearn.neighbors import KNeighborsClassifier\n",
        "neigh = KNeighborsClassifier(n_neighbors=2)\n",
        "neigh.fit(X_train, y_train)\n",
        "y_pred = neigh.predict(X_test)\n",
        "print_metrics(y_test, y_pred)'''"
      ],
      "execution_count": null,
      "outputs": [
        {
          "output_type": "execute_result",
          "data": {
            "application/vnd.google.colaboratory.intrinsic+json": {
              "type": "string"
            },
            "text/plain": [
              "'from sklearn.neighbors import KNeighborsClassifier\\nneigh = KNeighborsClassifier(n_neighbors=2)\\nneigh.fit(X_train, y_train)\\ny_pred = neigh.predict(X_test)\\nprint_metrics(y_test, y_pred)'"
            ]
          },
          "metadata": {
            "tags": []
          },
          "execution_count": 39
        }
      ]
    },
    {
      "cell_type": "markdown",
      "metadata": {
        "id": "WPE82piLpG46"
      },
      "source": [
        "# Decision Trees"
      ]
    },
    {
      "cell_type": "code",
      "metadata": {
        "id": "mUmLQAsLpGZe"
      },
      "source": [
        "from sklearn.model_selection import cross_val_score\n",
        "from sklearn.tree import DecisionTreeClassifier\n",
        "\n",
        "clf = DecisionTreeClassifier(random_state=1)\n",
        "clf = clf.fit(X_train, y_train)\n",
        "y_pred = clf.predict(X_test)"
      ],
      "execution_count": null,
      "outputs": []
    },
    {
      "cell_type": "code",
      "metadata": {
        "id": "DKv1758Opmx7",
        "colab": {
          "base_uri": "https://localhost:8080/",
          "height": 531
        },
        "outputId": "95d978a6-8ee5-495b-e31f-b6ba4a3690d2"
      },
      "source": [
        "print(y_test)\n",
        "print(classification_report(y_test, y_pred))\n",
        "\n",
        "print_metrics(y_test, y_pred)\n",
        "plot_confusion_matrix(clf, X_test, y_test)"
      ],
      "execution_count": null,
      "outputs": [
        {
          "output_type": "stream",
          "text": [
            "[0 0 0 ... 0 0 0]\n",
            "              precision    recall  f1-score   support\n",
            "\n",
            "           0       0.95      0.92      0.94     24286\n",
            "           1       0.13      0.21      0.16      1347\n",
            "\n",
            "    accuracy                           0.89     25633\n",
            "   macro avg       0.54      0.57      0.55     25633\n",
            "weighted avg       0.91      0.89      0.90     25633\n",
            "\n",
            "Accuracy: 0.8854991612374673\n",
            "Recall: 0.8854991612374673\n",
            "Precision: 0.9117465805831352\n",
            "F1 Score: 0.897864296801815\n"
          ],
          "name": "stdout"
        },
        {
          "output_type": "execute_result",
          "data": {
            "text/plain": [
              "<sklearn.metrics._plot.confusion_matrix.ConfusionMatrixDisplay at 0x7f54504ce518>"
            ]
          },
          "metadata": {
            "tags": []
          },
          "execution_count": 24
        },
        {
          "output_type": "display_data",
          "data": {
            "image/png": "[encoded data removed]",
            "text/plain": [
              "<Figure size 432x288 with 2 Axes>"
            ]
          },
          "metadata": {
            "tags": [],
            "needs_background": "light"
          }
        }
      ]
    },
    {
      "cell_type": "markdown",
      "metadata": {
        "id": "ZP5Vm4-NpxKP"
      },
      "source": [
        "# Random Forest"
      ]
    },
    {
      "cell_type": "code",
      "metadata": {
        "id": "zIJTHVsTpyko"
      },
      "source": [
        "from sklearn.ensemble import RandomForestClassifier\n",
        "\n",
        "forest_clf = RandomForestClassifier(n_estimators=100, random_state=1)\n",
        "forest_clf.fit(X_train, y_train)\n",
        "\n",
        "'''param_grid = [\n",
        "    {'n_estimators': [50,100]},\n",
        "  ]\n",
        "grid_search = GridSearchCV(forest_clf, param_grid, cv=5,\n",
        "                           scoring='accuracy',\n",
        "                           return_train_score=True)'''\n",
        "#grid_search.fit(X_train, y_train)\n",
        "#forest_clf = grid_search.best_estimator_\n",
        "y_forest_pred = forest_clf.predict(X_test)"
      ],
      "execution_count": null,
      "outputs": []
    },
    {
      "cell_type": "code",
      "metadata": {
        "id": "4_sIBE9lp2BT",
        "colab": {
          "base_uri": "https://localhost:8080/",
          "height": 514
        },
        "outputId": "552f21e3-77ac-45d9-d603-527259eb3fc3"
      },
      "source": [
        "print(classification_report(y_test, y_forest_pred))\n",
        "\n",
        "print_metrics(y_test, y_forest_pred)\n",
        "\n",
        "plot_confusion_matrix(forest_clf, X_test, y_test)"
      ],
      "execution_count": null,
      "outputs": [
        {
          "output_type": "stream",
          "text": [
            "              precision    recall  f1-score   support\n",
            "\n",
            "           0       0.95      0.95      0.95     24286\n",
            "           1       0.16      0.18      0.17      1347\n",
            "\n",
            "    accuracy                           0.91     25633\n",
            "   macro avg       0.56      0.56      0.56     25633\n",
            "weighted avg       0.91      0.91      0.91     25633\n",
            "\n",
            "Accuracy: 0.9073850115086022\n",
            "Recall: 0.9073850115086022\n",
            "Precision: 0.9121083023570193\n",
            "F1 Score: 0.909712847274087\n"
          ],
          "name": "stdout"
        },
        {
          "output_type": "execute_result",
          "data": {
            "text/plain": [
              "<sklearn.metrics._plot.confusion_matrix.ConfusionMatrixDisplay at 0x7f54aba0c358>"
            ]
          },
          "metadata": {
            "tags": []
          },
          "execution_count": 26
        },
        {
          "output_type": "display_data",
          "data": {
            "image/png": "[encoded data removed]",
            "text/plain": [
              "<Figure size 432x288 with 2 Axes>"
            ]
          },
          "metadata": {
            "tags": [],
            "needs_background": "light"
          }
        }
      ]
    },
    {
      "cell_type": "code",
      "metadata": {
        "colab": {
          "base_uri": "https://localhost:8080/"
        },
        "id": "92Z1zfWd_wJ2",
        "outputId": "0da78d84-265a-42bd-93ca-4a99ff061fbf"
      },
      "source": [
        "print(cat_attribs)\n",
        "print(num_attribs)"
      ],
      "execution_count": null,
      "outputs": [
        {
          "output_type": "stream",
          "text": [
            "['WEATHER_CO', 'LIGHT_COND', 'ROADWAY_SU', 'RD_TYPE', 'TRAFFIC_CO', 'WORK_ZONE_', 'SCHOOL_ZON']\n",
            "['VEH_COUNT', 'COLLISION_', 'INTERSECTI', 'ALCOHOL_NO', 'BELTED_UNB', 'DISTRACTED', 'DEER_NODEE', 'DROWSY_NOT', 'DRUG_NODRU', 'LGTRUCK_NO', 'MOTOR_NONM', 'PED_NONPED', 'SPEED_NOTS', 'SENIOR_NOT', 'YOUNG_NOTY', 'NIGHT', 'VDOT_DISTR', 'CAR_SPEED_', 'TRUCK_SPEE', 'ADT', 'PERCENT_4_', 'PERCENT_BU', 'PERCENT_TR', 'PERCENT__1', 'PERCENT__2', 'PERCENT__3']\n"
          ],
          "name": "stdout"
        }
      ]
    },
    {
      "cell_type": "code",
      "metadata": {
        "id": "9ryd74LQk-1c",
        "colab": {
          "base_uri": "https://localhost:8080/"
        },
        "outputId": "511c133f-d1fb-4bee-d6cd-69f86da7e583"
      },
      "source": [
        "feature_importances = forest_clf.feature_importances_\n",
        "print(feature_importances)\n",
        "print(len(feature_importances))\n",
        "attributes = num_attribs\n",
        "sorted(zip(feature_importances, attributes), reverse=True)"
      ],
      "execution_count": null,
      "outputs": [
        {
          "output_type": "stream",
          "text": [
            "[4.01715308e-02 8.43105558e-02 4.12508440e-02 2.14788606e-02\n",
            " 6.54891184e-02 2.59795543e-02 1.60359048e-02 7.20053105e-03\n",
            " 4.02302853e-03 1.63590638e-02 4.54682166e-02 2.08379425e-02\n",
            " 2.39112066e-02 2.14164552e-02 2.53199336e-02 1.02324038e-02\n",
            " 9.38163652e-02 1.64103850e-02 1.66731890e-02 3.86616014e-02\n",
            " 2.95611178e-02 3.01789704e-02 3.06827051e-02 3.08871855e-02\n",
            " 3.00835115e-02 2.24815059e-02 6.93772256e-03 1.05850906e-03\n",
            " 1.94500351e-03 5.78023799e-03 1.21349367e-03 4.25763481e-04\n",
            " 7.69167023e-07 4.46894770e-04 1.29715621e-05 2.78752642e-05\n",
            " 4.25708723e-03 1.20652983e-02 4.83458307e-03 8.22086546e-03\n",
            " 8.99599640e-03 4.61669703e-04 5.58618216e-04 7.74516064e-03\n",
            " 6.76304921e-03 7.25095498e-04 1.28327504e-03 2.28298771e-05\n",
            " 2.55741127e-04 1.06213427e-04 2.92957903e-05 1.61265627e-04\n",
            " 2.68920445e-04 4.43285683e-04 1.88283596e-02 6.34514693e-03\n",
            " 7.35696661e-03 7.91428480e-03 1.10742545e-02 3.63882151e-04\n",
            " 1.07843444e-02 7.69566803e-03 1.93074669e-03 1.63313888e-02\n",
            " 8.77830848e-03 1.55027251e-03 7.50164975e-04 1.81239463e-04\n",
            " 1.31874980e-04 4.49147650e-05 1.46318834e-03 1.40997966e-03\n",
            " 3.63373177e-05 2.48572706e-04 1.37243312e-03 3.24194278e-03\n",
            " 3.11206475e-03 1.92666580e-03 7.42126344e-04 2.41569252e-03]\n",
            "80\n"
          ],
          "name": "stdout"
        },
        {
          "output_type": "execute_result",
          "data": {
            "text/plain": [
              "[(0.09381636515642028, 'VDOT_DISTR'),\n",
              " (0.08431055575891444, 'COLLISION_'),\n",
              " (0.06548911838263255, 'BELTED_UNB'),\n",
              " (0.04546821663816083, 'MOTOR_NONM'),\n",
              " (0.04125084398659698, 'INTERSECTI'),\n",
              " (0.04017153084104938, 'VEH_COUNT'),\n",
              " (0.03866160143963562, 'ADT'),\n",
              " (0.03088718547009625, 'PERCENT__1'),\n",
              " (0.030682705106445295, 'PERCENT_TR'),\n",
              " (0.030178970426222262, 'PERCENT_BU'),\n",
              " (0.030083511539538185, 'PERCENT__2'),\n",
              " (0.02956111777032083, 'PERCENT_4_'),\n",
              " (0.02597955430887521, 'DISTRACTED'),\n",
              " (0.025319933555166402, 'YOUNG_NOTY'),\n",
              " (0.023911206632082734, 'SPEED_NOTS'),\n",
              " (0.02248150585524974, 'PERCENT__3'),\n",
              " (0.021478860553392307, 'ALCOHOL_NO'),\n",
              " (0.021416455162689214, 'SENIOR_NOT'),\n",
              " (0.020837942505724363, 'PED_NONPED'),\n",
              " (0.016673188992623038, 'TRUCK_SPEE'),\n",
              " (0.01641038497188762, 'CAR_SPEED_'),\n",
              " (0.016359063844602475, 'LGTRUCK_NO'),\n",
              " (0.01603590483519738, 'DEER_NODEE'),\n",
              " (0.010232403840027368, 'NIGHT'),\n",
              " (0.007200531045035592, 'DROWSY_NOT'),\n",
              " (0.004023028526238014, 'DRUG_NODRU')]"
            ]
          },
          "metadata": {
            "tags": []
          },
          "execution_count": 27
        }
      ]
    },
    {
      "cell_type": "code",
      "metadata": {
        "id": "Ar20JxgDq5Qy",
        "colab": {
          "base_uri": "https://localhost:8080/"
        },
        "outputId": "2d2b66d0-2e77-4afc-c008-183bd1013e10"
      },
      "source": [
        "sorted(zip([1,2,3],['a','b']))"
      ],
      "execution_count": null,
      "outputs": [
        {
          "output_type": "execute_result",
          "data": {
            "text/plain": [
              "[(1, 'a'), (2, 'b')]"
            ]
          },
          "metadata": {
            "tags": []
          },
          "execution_count": 30
        }
      ]
    },
    {
      "cell_type": "markdown",
      "metadata": {
        "id": "xugfEESML5AP"
      },
      "source": [
        "# Neural Network"
      ]
    },
    {
      "cell_type": "code",
      "metadata": {
        "id": "VYDRI8RvL9tV",
        "colab": {
          "base_uri": "https://localhost:8080/"
        },
        "outputId": "f0d60867-8a4c-4b49-cc8c-a7fc0170e413"
      },
      "source": [
        "nn_model = keras.Sequential()\n",
        "nn_model.add(keras.layers.Dense(128, input_dim=80, activation='elu'))\n",
        "nn_model.add(keras.layers.Dense(128, activation='elu'))\n",
        "nn_model.add(keras.layers.Dense(128, activation='elu'))\n",
        "nn_model.add(keras.layers.Dense(128, activation='elu'))\n",
        "nn_model.add(keras.layers.Dense(128, activation='elu'))\n",
        "nn_model.add(keras.layers.Dense(2, activation='softmax'))\n",
        "optimizer = tf.keras.optimizers.Adam(learning_rate=0.001)\n",
        "nn_model.compile(optimizer,\n",
        "              loss='sparse_categorical_crossentropy',\n",
        "              metrics=['accuracy'])\n",
        "\n",
        "print(type(X_train[0][0]))\n",
        "print(type(y_train[0]))\n",
        "\n",
        "nn_model.fit(X_train, y_train, validation_data = (X_test, y_test), epochs = 100)"
      ],
      "execution_count": null,
      "outputs": [
        {
          "output_type": "stream",
          "text": [
            "<class 'numpy.float64'>\n",
            "<class 'numpy.int64'>\n",
            "Epoch 1/100\n",
            "6080/6080 [==============================] - 14s 2ms/step - loss: 0.5404 - accuracy: 0.7251 - val_loss: 0.5525 - val_accuracy: 0.7418\n",
            "Epoch 2/100\n",
            "6080/6080 [==============================] - 14s 2ms/step - loss: 0.5144 - accuracy: 0.7436 - val_loss: 0.4114 - val_accuracy: 0.8224\n",
            "Epoch 3/100\n",
            "6080/6080 [==============================] - 14s 2ms/step - loss: 0.4636 - accuracy: 0.7770 - val_loss: 0.3993 - val_accuracy: 0.8262\n",
            "Epoch 4/100\n",
            "6080/6080 [==============================] - 14s 2ms/step - loss: 0.3885 - accuracy: 0.8228 - val_loss: 0.4436 - val_accuracy: 0.8094\n",
            "Epoch 5/100\n",
            "6080/6080 [==============================] - 14s 2ms/step - loss: 0.3230 - accuracy: 0.8603 - val_loss: 0.4304 - val_accuracy: 0.8411\n",
            "Epoch 6/100\n",
            "6080/6080 [==============================] - 15s 2ms/step - loss: 0.2760 - accuracy: 0.8854 - val_loss: 0.5160 - val_accuracy: 0.8205\n",
            "Epoch 7/100\n",
            "6080/6080 [==============================] - 14s 2ms/step - loss: 0.2462 - accuracy: 0.8993 - val_loss: 0.5271 - val_accuracy: 0.8402\n",
            "Epoch 8/100\n",
            "6080/6080 [==============================] - 15s 2ms/step - loss: 0.2251 - accuracy: 0.9097 - val_loss: 0.4406 - val_accuracy: 0.8829\n",
            "Epoch 9/100\n",
            "6080/6080 [==============================] - 14s 2ms/step - loss: 0.2076 - accuracy: 0.9172 - val_loss: 0.5392 - val_accuracy: 0.8709\n",
            "Epoch 10/100\n",
            "6080/6080 [==============================] - 14s 2ms/step - loss: 0.1955 - accuracy: 0.9232 - val_loss: 0.5188 - val_accuracy: 0.8718\n",
            "Epoch 11/100\n",
            "6080/6080 [==============================] - 14s 2ms/step - loss: 0.1848 - accuracy: 0.9276 - val_loss: 0.5657 - val_accuracy: 0.8557\n",
            "Epoch 12/100\n",
            "6080/6080 [==============================] - 14s 2ms/step - loss: 0.1768 - accuracy: 0.9308 - val_loss: 0.5340 - val_accuracy: 0.8794\n",
            "Epoch 13/100\n",
            "6080/6080 [==============================] - 14s 2ms/step - loss: 0.1712 - accuracy: 0.9332 - val_loss: 0.5811 - val_accuracy: 0.8775\n",
            "Epoch 14/100\n",
            "6080/6080 [==============================] - 14s 2ms/step - loss: 0.1646 - accuracy: 0.9359 - val_loss: 0.6157 - val_accuracy: 0.8645\n",
            "Epoch 15/100\n",
            "6080/6080 [==============================] - 14s 2ms/step - loss: 0.1605 - accuracy: 0.9376 - val_loss: 0.5815 - val_accuracy: 0.8696\n",
            "Epoch 16/100\n",
            "6080/6080 [==============================] - 14s 2ms/step - loss: 0.1544 - accuracy: 0.9398 - val_loss: 0.6255 - val_accuracy: 0.8714\n",
            "Epoch 17/100\n",
            "6080/6080 [==============================] - 15s 2ms/step - loss: 0.1517 - accuracy: 0.9407 - val_loss: 0.6686 - val_accuracy: 0.8776\n",
            "Epoch 18/100\n",
            "6080/6080 [==============================] - 14s 2ms/step - loss: 0.1500 - accuracy: 0.9420 - val_loss: 0.6311 - val_accuracy: 0.8696\n",
            "Epoch 19/100\n",
            "6080/6080 [==============================] - 15s 2ms/step - loss: 0.1468 - accuracy: 0.9428 - val_loss: 0.6588 - val_accuracy: 0.8775\n",
            "Epoch 20/100\n",
            "6080/6080 [==============================] - 14s 2ms/step - loss: 0.1434 - accuracy: 0.9440 - val_loss: 0.6722 - val_accuracy: 0.8721\n",
            "Epoch 21/100\n",
            "6080/6080 [==============================] - 14s 2ms/step - loss: 0.1411 - accuracy: 0.9446 - val_loss: 0.7198 - val_accuracy: 0.8945\n",
            "Epoch 22/100\n",
            "6080/6080 [==============================] - 14s 2ms/step - loss: 0.1384 - accuracy: 0.9457 - val_loss: 0.7270 - val_accuracy: 0.8694\n",
            "Epoch 23/100\n",
            "6080/6080 [==============================] - 14s 2ms/step - loss: 0.1383 - accuracy: 0.9462 - val_loss: 0.7809 - val_accuracy: 0.8637\n",
            "Epoch 24/100\n",
            "6080/6080 [==============================] - 14s 2ms/step - loss: 0.1357 - accuracy: 0.9473 - val_loss: 0.7299 - val_accuracy: 0.8667\n",
            "Epoch 25/100\n",
            "6080/6080 [==============================] - 14s 2ms/step - loss: 0.1334 - accuracy: 0.9479 - val_loss: 0.8588 - val_accuracy: 0.8824\n",
            "Epoch 26/100\n",
            "6080/6080 [==============================] - 14s 2ms/step - loss: 0.1329 - accuracy: 0.9486 - val_loss: 0.8609 - val_accuracy: 0.8657\n",
            "Epoch 27/100\n",
            "6080/6080 [==============================] - 14s 2ms/step - loss: 0.1335 - accuracy: 0.9477 - val_loss: 0.8493 - val_accuracy: 0.8693\n",
            "Epoch 28/100\n",
            "6080/6080 [==============================] - 14s 2ms/step - loss: 0.1298 - accuracy: 0.9497 - val_loss: 0.8272 - val_accuracy: 0.8837\n",
            "Epoch 29/100\n",
            "6080/6080 [==============================] - 15s 2ms/step - loss: 0.1310 - accuracy: 0.9491 - val_loss: 0.8689 - val_accuracy: 0.8883\n",
            "Epoch 30/100\n",
            "6080/6080 [==============================] - 14s 2ms/step - loss: 0.1277 - accuracy: 0.9499 - val_loss: 0.9290 - val_accuracy: 0.8786\n",
            "Epoch 31/100\n",
            "6080/6080 [==============================] - 14s 2ms/step - loss: 0.1298 - accuracy: 0.9493 - val_loss: 0.9023 - val_accuracy: 0.8844\n",
            "Epoch 32/100\n",
            "6080/6080 [==============================] - 14s 2ms/step - loss: 0.1268 - accuracy: 0.9506 - val_loss: 0.8683 - val_accuracy: 0.8905\n",
            "Epoch 33/100\n",
            "6080/6080 [==============================] - 14s 2ms/step - loss: 0.1260 - accuracy: 0.9508 - val_loss: 0.8815 - val_accuracy: 0.8714\n",
            "Epoch 34/100\n",
            "6080/6080 [==============================] - 14s 2ms/step - loss: 0.1277 - accuracy: 0.9506 - val_loss: 0.9994 - val_accuracy: 0.8899\n",
            "Epoch 35/100\n",
            "6080/6080 [==============================] - 14s 2ms/step - loss: 0.1247 - accuracy: 0.9513 - val_loss: 1.0640 - val_accuracy: 0.8775\n",
            "Epoch 36/100\n",
            "6080/6080 [==============================] - 14s 2ms/step - loss: 0.1256 - accuracy: 0.9516 - val_loss: 1.0385 - val_accuracy: 0.8814\n",
            "Epoch 37/100\n",
            "6080/6080 [==============================] - 14s 2ms/step - loss: 0.1236 - accuracy: 0.9517 - val_loss: 1.1107 - val_accuracy: 0.8775\n",
            "Epoch 38/100\n",
            "6080/6080 [==============================] - 15s 2ms/step - loss: 0.1238 - accuracy: 0.9524 - val_loss: 1.1789 - val_accuracy: 0.8541\n",
            "Epoch 39/100\n",
            "6080/6080 [==============================] - 14s 2ms/step - loss: 0.1219 - accuracy: 0.9526 - val_loss: 1.0748 - val_accuracy: 0.8784\n",
            "Epoch 40/100\n",
            "6080/6080 [==============================] - 15s 2ms/step - loss: 0.1244 - accuracy: 0.9523 - val_loss: 1.0537 - val_accuracy: 0.8926\n",
            "Epoch 41/100\n",
            "6080/6080 [==============================] - 15s 2ms/step - loss: 0.1217 - accuracy: 0.9529 - val_loss: 1.2061 - val_accuracy: 0.8658\n",
            "Epoch 42/100\n",
            "6080/6080 [==============================] - 14s 2ms/step - loss: 0.1232 - accuracy: 0.9524 - val_loss: 1.2244 - val_accuracy: 0.8682\n",
            "Epoch 43/100\n",
            "6080/6080 [==============================] - 14s 2ms/step - loss: 0.1215 - accuracy: 0.9527 - val_loss: 1.1766 - val_accuracy: 0.8868\n",
            "Epoch 44/100\n",
            "6080/6080 [==============================] - 14s 2ms/step - loss: 0.1215 - accuracy: 0.9531 - val_loss: 1.1064 - val_accuracy: 0.8882\n",
            "Epoch 45/100\n",
            "6080/6080 [==============================] - 14s 2ms/step - loss: 0.1200 - accuracy: 0.9530 - val_loss: 1.1980 - val_accuracy: 0.8878\n",
            "Epoch 46/100\n",
            "6080/6080 [==============================] - 14s 2ms/step - loss: 0.1207 - accuracy: 0.9533 - val_loss: 1.2647 - val_accuracy: 0.8814\n",
            "Epoch 47/100\n",
            "6080/6080 [==============================] - 14s 2ms/step - loss: 0.1232 - accuracy: 0.9525 - val_loss: 1.2632 - val_accuracy: 0.8867\n",
            "Epoch 48/100\n",
            "6080/6080 [==============================] - 14s 2ms/step - loss: 0.1211 - accuracy: 0.9529 - val_loss: 1.2943 - val_accuracy: 0.8763\n",
            "Epoch 49/100\n",
            "6080/6080 [==============================] - 14s 2ms/step - loss: 0.1214 - accuracy: 0.9534 - val_loss: 1.2739 - val_accuracy: 0.8803\n",
            "Epoch 50/100\n",
            "6080/6080 [==============================] - 14s 2ms/step - loss: 0.1214 - accuracy: 0.9535 - val_loss: 1.5040 - val_accuracy: 0.8675\n",
            "Epoch 51/100\n",
            "6080/6080 [==============================] - 14s 2ms/step - loss: 0.1197 - accuracy: 0.9538 - val_loss: 1.5302 - val_accuracy: 0.8740\n",
            "Epoch 52/100\n",
            "6080/6080 [==============================] - 14s 2ms/step - loss: 0.1192 - accuracy: 0.9539 - val_loss: 1.4650 - val_accuracy: 0.8762\n",
            "Epoch 53/100\n",
            "6080/6080 [==============================] - 14s 2ms/step - loss: 0.1242 - accuracy: 0.9529 - val_loss: 1.4387 - val_accuracy: 0.8736\n",
            "Epoch 54/100\n",
            "6080/6080 [==============================] - 14s 2ms/step - loss: 0.1228 - accuracy: 0.9535 - val_loss: 1.3218 - val_accuracy: 0.8809\n",
            "Epoch 55/100\n",
            "6080/6080 [==============================] - 14s 2ms/step - loss: 0.1180 - accuracy: 0.9544 - val_loss: 1.5876 - val_accuracy: 0.8732\n",
            "Epoch 56/100\n",
            "6080/6080 [==============================] - 14s 2ms/step - loss: 0.1221 - accuracy: 0.9539 - val_loss: 1.5271 - val_accuracy: 0.8766\n",
            "Epoch 57/100\n",
            "6080/6080 [==============================] - 14s 2ms/step - loss: 0.1196 - accuracy: 0.9535 - val_loss: 1.6552 - val_accuracy: 0.8750\n",
            "Epoch 58/100\n",
            "6080/6080 [==============================] - 14s 2ms/step - loss: 0.1215 - accuracy: 0.9536 - val_loss: 1.6508 - val_accuracy: 0.8929\n",
            "Epoch 59/100\n",
            "6080/6080 [==============================] - 14s 2ms/step - loss: 0.1215 - accuracy: 0.9540 - val_loss: 1.6043 - val_accuracy: 0.8784\n",
            "Epoch 60/100\n",
            "6080/6080 [==============================] - 15s 2ms/step - loss: 0.1229 - accuracy: 0.9541 - val_loss: 1.7010 - val_accuracy: 0.8790\n",
            "Epoch 61/100\n",
            "6080/6080 [==============================] - 14s 2ms/step - loss: 0.1226 - accuracy: 0.9541 - val_loss: 1.6947 - val_accuracy: 0.8480\n",
            "Epoch 62/100\n",
            "6080/6080 [==============================] - 14s 2ms/step - loss: 0.1195 - accuracy: 0.9544 - val_loss: 1.7123 - val_accuracy: 0.8842\n",
            "Epoch 63/100\n",
            "6080/6080 [==============================] - 15s 2ms/step - loss: 0.1188 - accuracy: 0.9546 - val_loss: 1.7181 - val_accuracy: 0.8628\n",
            "Epoch 64/100\n",
            "6080/6080 [==============================] - 14s 2ms/step - loss: 0.1226 - accuracy: 0.9538 - val_loss: 1.8648 - val_accuracy: 0.8768\n",
            "Epoch 65/100\n",
            "6080/6080 [==============================] - 14s 2ms/step - loss: 0.1189 - accuracy: 0.9547 - val_loss: 1.5849 - val_accuracy: 0.8495\n",
            "Epoch 66/100\n",
            "6080/6080 [==============================] - 14s 2ms/step - loss: 0.1245 - accuracy: 0.9540 - val_loss: 1.7419 - val_accuracy: 0.8722\n",
            "Epoch 67/100\n",
            "6080/6080 [==============================] - 14s 2ms/step - loss: 0.1209 - accuracy: 0.9537 - val_loss: 1.7283 - val_accuracy: 0.8839\n",
            "Epoch 68/100\n",
            "6080/6080 [==============================] - 14s 2ms/step - loss: 0.1214 - accuracy: 0.9546 - val_loss: 1.6597 - val_accuracy: 0.8754\n",
            "Epoch 69/100\n",
            "6080/6080 [==============================] - 14s 2ms/step - loss: 0.1228 - accuracy: 0.9547 - val_loss: 1.8907 - val_accuracy: 0.8642\n",
            "Epoch 70/100\n",
            "6080/6080 [==============================] - 14s 2ms/step - loss: 0.1209 - accuracy: 0.9542 - val_loss: 1.8776 - val_accuracy: 0.8729\n",
            "Epoch 71/100\n",
            "6080/6080 [==============================] - 14s 2ms/step - loss: 0.1228 - accuracy: 0.9540 - val_loss: 1.9406 - val_accuracy: 0.8852\n",
            "Epoch 72/100\n",
            "6080/6080 [==============================] - 14s 2ms/step - loss: 0.1215 - accuracy: 0.9539 - val_loss: 1.6979 - val_accuracy: 0.8827\n",
            "Epoch 73/100\n",
            "6080/6080 [==============================] - 14s 2ms/step - loss: 0.1292 - accuracy: 0.9533 - val_loss: 1.8768 - val_accuracy: 0.8729\n",
            "Epoch 74/100\n",
            "6080/6080 [==============================] - 14s 2ms/step - loss: 0.1151 - accuracy: 0.9559 - val_loss: 1.7606 - val_accuracy: 0.8818\n",
            "Epoch 75/100\n",
            "6080/6080 [==============================] - 14s 2ms/step - loss: 0.1216 - accuracy: 0.9545 - val_loss: 2.1074 - val_accuracy: 0.8641\n",
            "Epoch 76/100\n",
            "6080/6080 [==============================] - 14s 2ms/step - loss: 0.1264 - accuracy: 0.9532 - val_loss: 1.9006 - val_accuracy: 0.8886\n",
            "Epoch 77/100\n",
            "6080/6080 [==============================] - 14s 2ms/step - loss: 0.1201 - accuracy: 0.9543 - val_loss: 2.2749 - val_accuracy: 0.8816\n",
            "Epoch 78/100\n",
            "6080/6080 [==============================] - 14s 2ms/step - loss: 0.1215 - accuracy: 0.9550 - val_loss: 1.8282 - val_accuracy: 0.8516\n",
            "Epoch 79/100\n",
            "6080/6080 [==============================] - 14s 2ms/step - loss: 0.1215 - accuracy: 0.9543 - val_loss: 1.7894 - val_accuracy: 0.8873\n",
            "Epoch 80/100\n",
            "6080/6080 [==============================] - 14s 2ms/step - loss: 0.1207 - accuracy: 0.9547 - val_loss: 2.0262 - val_accuracy: 0.8624\n",
            "Epoch 81/100\n",
            "6080/6080 [==============================] - 14s 2ms/step - loss: 0.1214 - accuracy: 0.9549 - val_loss: 2.3074 - val_accuracy: 0.8643\n",
            "Epoch 82/100\n",
            "6080/6080 [==============================] - 14s 2ms/step - loss: 0.1262 - accuracy: 0.9536 - val_loss: 2.1118 - val_accuracy: 0.8518\n",
            "Epoch 83/100\n",
            "6080/6080 [==============================] - 14s 2ms/step - loss: 0.1234 - accuracy: 0.9541 - val_loss: 2.6653 - val_accuracy: 0.8810\n",
            "Epoch 84/100\n",
            "6080/6080 [==============================] - 15s 2ms/step - loss: 0.1203 - accuracy: 0.9551 - val_loss: 2.6097 - val_accuracy: 0.8707\n",
            "Epoch 85/100\n",
            "6080/6080 [==============================] - 15s 2ms/step - loss: 0.1232 - accuracy: 0.9546 - val_loss: 2.0976 - val_accuracy: 0.8875\n",
            "Epoch 86/100\n",
            "6080/6080 [==============================] - 14s 2ms/step - loss: 0.1213 - accuracy: 0.9544 - val_loss: 2.2958 - val_accuracy: 0.8559\n",
            "Epoch 87/100\n",
            "6080/6080 [==============================] - 14s 2ms/step - loss: 0.1265 - accuracy: 0.9531 - val_loss: 2.1664 - val_accuracy: 0.8704\n",
            "Epoch 88/100\n",
            "6080/6080 [==============================] - 14s 2ms/step - loss: 0.1228 - accuracy: 0.9546 - val_loss: 2.2831 - val_accuracy: 0.8718\n",
            "Epoch 89/100\n",
            "6080/6080 [==============================] - 14s 2ms/step - loss: 0.1242 - accuracy: 0.9543 - val_loss: 2.4880 - val_accuracy: 0.8621\n",
            "Epoch 90/100\n",
            "6080/6080 [==============================] - 14s 2ms/step - loss: 0.1229 - accuracy: 0.9545 - val_loss: 2.3257 - val_accuracy: 0.8807\n",
            "Epoch 91/100\n",
            "6080/6080 [==============================] - 14s 2ms/step - loss: 0.1224 - accuracy: 0.9545 - val_loss: 2.0260 - val_accuracy: 0.8764\n",
            "Epoch 92/100\n",
            "6080/6080 [==============================] - 14s 2ms/step - loss: 0.1225 - accuracy: 0.9550 - val_loss: 2.3202 - val_accuracy: 0.8709\n",
            "Epoch 93/100\n",
            "6080/6080 [==============================] - 14s 2ms/step - loss: 0.1201 - accuracy: 0.9554 - val_loss: 2.6549 - val_accuracy: 0.8586\n",
            "Epoch 94/100\n",
            "6080/6080 [==============================] - 14s 2ms/step - loss: 0.1291 - accuracy: 0.9534 - val_loss: 2.5170 - val_accuracy: 0.8880\n",
            "Epoch 95/100\n",
            "6080/6080 [==============================] - 14s 2ms/step - loss: 0.1221 - accuracy: 0.9548 - val_loss: 2.3974 - val_accuracy: 0.8720\n",
            "Epoch 96/100\n",
            "6080/6080 [==============================] - 14s 2ms/step - loss: 0.1265 - accuracy: 0.9540 - val_loss: 2.9333 - val_accuracy: 0.8738\n",
            "Epoch 97/100\n",
            "6080/6080 [==============================] - 14s 2ms/step - loss: 0.1245 - accuracy: 0.9541 - val_loss: 2.6959 - val_accuracy: 0.8622\n",
            "Epoch 98/100\n",
            "6080/6080 [==============================] - 14s 2ms/step - loss: 0.1269 - accuracy: 0.9542 - val_loss: 2.5524 - val_accuracy: 0.8778\n",
            "Epoch 99/100\n",
            "6080/6080 [==============================] - 14s 2ms/step - loss: 0.1223 - accuracy: 0.9550 - val_loss: 3.2633 - val_accuracy: 0.8650\n",
            "Epoch 100/100\n",
            "6080/6080 [==============================] - 14s 2ms/step - loss: 0.1259 - accuracy: 0.9546 - val_loss: 2.5350 - val_accuracy: 0.8624\n"
          ],
          "name": "stdout"
        },
        {
          "output_type": "execute_result",
          "data": {
            "text/plain": [
              "<tensorflow.python.keras.callbacks.History at 0x7f5451aeea90>"
            ]
          },
          "metadata": {
            "tags": []
          },
          "execution_count": 28
        }
      ]
    },
    {
      "cell_type": "code",
      "metadata": {
        "id": "IgV46IpIoyGI",
        "colab": {
          "base_uri": "https://localhost:8080/",
          "height": 404
        },
        "outputId": "8f44b768-7d70-455c-c22e-c1eadb0d7e8a"
      },
      "source": [
        "print(X_test.shape)\n",
        "print(y_test)\n",
        "y_pred = nn_model.predict(X_train)\n",
        "print(y_train[:-6])\n",
        "print(y_pred[:-6])"
      ],
      "execution_count": null,
      "outputs": [
        {
          "output_type": "stream",
          "text": [
            "(25633, 80)\n",
            "[0 0 0 ... 0 0 0]\n"
          ],
          "name": "stdout"
        },
        {
          "output_type": "error",
          "ename": "KeyboardInterrupt",
          "evalue": "ignored",
          "traceback": [
            "\u001b[0;31m---------------------------------------------------------------------------\u001b[0m",
            "\u001b[0;31mKeyboardInterrupt\u001b[0m                         Traceback (most recent call last)",
            "\u001b[0;32m<ipython-input-30-98698a7e8ab0>\u001b[0m in \u001b[0;36m<module>\u001b[0;34m()\u001b[0m\n\u001b[1;32m      1\u001b[0m \u001b[0mprint\u001b[0m\u001b[0;34m(\u001b[0m\u001b[0mX_test\u001b[0m\u001b[0;34m.\u001b[0m\u001b[0mshape\u001b[0m\u001b[0;34m)\u001b[0m\u001b[0;34m\u001b[0m\u001b[0;34m\u001b[0m\u001b[0m\n\u001b[1;32m      2\u001b[0m \u001b[0mprint\u001b[0m\u001b[0;34m(\u001b[0m\u001b[0my_test\u001b[0m\u001b[0;34m)\u001b[0m\u001b[0;34m\u001b[0m\u001b[0;34m\u001b[0m\u001b[0m\n\u001b[0;32m----> 3\u001b[0;31m \u001b[0my_pred\u001b[0m \u001b[0;34m=\u001b[0m \u001b[0mnn_model\u001b[0m\u001b[0;34m.\u001b[0m\u001b[0mpredict\u001b[0m\u001b[0;34m(\u001b[0m\u001b[0mX_train\u001b[0m\u001b[0;34m)\u001b[0m\u001b[0;34m\u001b[0m\u001b[0;34m\u001b[0m\u001b[0m\n\u001b[0m\u001b[1;32m      4\u001b[0m \u001b[0mprint\u001b[0m\u001b[0;34m(\u001b[0m\u001b[0my_train\u001b[0m\u001b[0;34m[\u001b[0m\u001b[0;34m:\u001b[0m\u001b[0;34m-\u001b[0m\u001b[0;36m6\u001b[0m\u001b[0;34m]\u001b[0m\u001b[0;34m)\u001b[0m\u001b[0;34m\u001b[0m\u001b[0;34m\u001b[0m\u001b[0m\n\u001b[1;32m      5\u001b[0m \u001b[0mprint\u001b[0m\u001b[0;34m(\u001b[0m\u001b[0my_pred\u001b[0m\u001b[0;34m[\u001b[0m\u001b[0;34m:\u001b[0m\u001b[0;34m-\u001b[0m\u001b[0;36m6\u001b[0m\u001b[0;34m]\u001b[0m\u001b[0;34m)\u001b[0m\u001b[0;34m\u001b[0m\u001b[0;34m\u001b[0m\u001b[0m\n",
            "\u001b[0;32m/usr/local/lib/python3.6/dist-packages/tensorflow/python/keras/engine/training.py\u001b[0m in \u001b[0;36m_method_wrapper\u001b[0;34m(self, *args, **kwargs)\u001b[0m\n\u001b[1;32m    128\u001b[0m       raise ValueError('{} is not supported in multi-worker mode.'.format(\n\u001b[1;32m    129\u001b[0m           method.__name__))\n\u001b[0;32m--> 130\u001b[0;31m     \u001b[0;32mreturn\u001b[0m \u001b[0mmethod\u001b[0m\u001b[0;34m(\u001b[0m\u001b[0mself\u001b[0m\u001b[0;34m,\u001b[0m \u001b[0;34m*\u001b[0m\u001b[0margs\u001b[0m\u001b[0;34m,\u001b[0m \u001b[0;34m**\u001b[0m\u001b[0mkwargs\u001b[0m\u001b[0;34m)\u001b[0m\u001b[0;34m\u001b[0m\u001b[0;34m\u001b[0m\u001b[0m\n\u001b[0m\u001b[1;32m    131\u001b[0m \u001b[0;34m\u001b[0m\u001b[0m\n\u001b[1;32m    132\u001b[0m   return tf_decorator.make_decorator(\n",
            "\u001b[0;32m/usr/local/lib/python3.6/dist-packages/tensorflow/python/keras/engine/training.py\u001b[0m in \u001b[0;36mpredict\u001b[0;34m(self, x, batch_size, verbose, steps, callbacks, max_queue_size, workers, use_multiprocessing)\u001b[0m\n\u001b[1;32m   1597\u001b[0m           \u001b[0;32mfor\u001b[0m \u001b[0mstep\u001b[0m \u001b[0;32min\u001b[0m \u001b[0mdata_handler\u001b[0m\u001b[0;34m.\u001b[0m\u001b[0msteps\u001b[0m\u001b[0;34m(\u001b[0m\u001b[0;34m)\u001b[0m\u001b[0;34m:\u001b[0m\u001b[0;34m\u001b[0m\u001b[0;34m\u001b[0m\u001b[0m\n\u001b[1;32m   1598\u001b[0m             \u001b[0mcallbacks\u001b[0m\u001b[0;34m.\u001b[0m\u001b[0mon_predict_batch_begin\u001b[0m\u001b[0;34m(\u001b[0m\u001b[0mstep\u001b[0m\u001b[0;34m)\u001b[0m\u001b[0;34m\u001b[0m\u001b[0;34m\u001b[0m\u001b[0m\n\u001b[0;32m-> 1599\u001b[0;31m             \u001b[0mtmp_batch_outputs\u001b[0m \u001b[0;34m=\u001b[0m \u001b[0mpredict_function\u001b[0m\u001b[0;34m(\u001b[0m\u001b[0miterator\u001b[0m\u001b[0;34m)\u001b[0m\u001b[0;34m\u001b[0m\u001b[0;34m\u001b[0m\u001b[0m\n\u001b[0m\u001b[1;32m   1600\u001b[0m             \u001b[0;32mif\u001b[0m \u001b[0mdata_handler\u001b[0m\u001b[0;34m.\u001b[0m\u001b[0mshould_sync\u001b[0m\u001b[0;34m:\u001b[0m\u001b[0;34m\u001b[0m\u001b[0;34m\u001b[0m\u001b[0m\n\u001b[1;32m   1601\u001b[0m               \u001b[0mcontext\u001b[0m\u001b[0;34m.\u001b[0m\u001b[0masync_wait\u001b[0m\u001b[0;34m(\u001b[0m\u001b[0;34m)\u001b[0m\u001b[0;34m\u001b[0m\u001b[0;34m\u001b[0m\u001b[0m\n",
            "\u001b[0;32m/usr/local/lib/python3.6/dist-packages/tensorflow/python/eager/def_function.py\u001b[0m in \u001b[0;36m__call__\u001b[0;34m(self, *args, **kwds)\u001b[0m\n\u001b[1;32m    778\u001b[0m       \u001b[0;32melse\u001b[0m\u001b[0;34m:\u001b[0m\u001b[0;34m\u001b[0m\u001b[0;34m\u001b[0m\u001b[0m\n\u001b[1;32m    779\u001b[0m         \u001b[0mcompiler\u001b[0m \u001b[0;34m=\u001b[0m \u001b[0;34m\"nonXla\"\u001b[0m\u001b[0;34m\u001b[0m\u001b[0;34m\u001b[0m\u001b[0m\n\u001b[0;32m--> 780\u001b[0;31m         \u001b[0mresult\u001b[0m \u001b[0;34m=\u001b[0m \u001b[0mself\u001b[0m\u001b[0;34m.\u001b[0m\u001b[0m_call\u001b[0m\u001b[0;34m(\u001b[0m\u001b[0;34m*\u001b[0m\u001b[0margs\u001b[0m\u001b[0;34m,\u001b[0m \u001b[0;34m**\u001b[0m\u001b[0mkwds\u001b[0m\u001b[0;34m)\u001b[0m\u001b[0;34m\u001b[0m\u001b[0;34m\u001b[0m\u001b[0m\n\u001b[0m\u001b[1;32m    781\u001b[0m \u001b[0;34m\u001b[0m\u001b[0m\n\u001b[1;32m    782\u001b[0m       \u001b[0mnew_tracing_count\u001b[0m \u001b[0;34m=\u001b[0m \u001b[0mself\u001b[0m\u001b[0;34m.\u001b[0m\u001b[0m_get_tracing_count\u001b[0m\u001b[0;34m(\u001b[0m\u001b[0;34m)\u001b[0m\u001b[0;34m\u001b[0m\u001b[0;34m\u001b[0m\u001b[0m\n",
            "\u001b[0;32m/usr/local/lib/python3.6/dist-packages/tensorflow/python/eager/def_function.py\u001b[0m in \u001b[0;36m_call\u001b[0;34m(self, *args, **kwds)\u001b[0m\n\u001b[1;32m    812\u001b[0m       \u001b[0;31m# In this case we have not created variables on the first call. So we can\u001b[0m\u001b[0;34m\u001b[0m\u001b[0;34m\u001b[0m\u001b[0;34m\u001b[0m\u001b[0m\n\u001b[1;32m    813\u001b[0m       \u001b[0;31m# run the first trace but we should fail if variables are created.\u001b[0m\u001b[0;34m\u001b[0m\u001b[0;34m\u001b[0m\u001b[0;34m\u001b[0m\u001b[0m\n\u001b[0;32m--> 814\u001b[0;31m       \u001b[0mresults\u001b[0m \u001b[0;34m=\u001b[0m \u001b[0mself\u001b[0m\u001b[0;34m.\u001b[0m\u001b[0m_stateful_fn\u001b[0m\u001b[0;34m(\u001b[0m\u001b[0;34m*\u001b[0m\u001b[0margs\u001b[0m\u001b[0;34m,\u001b[0m \u001b[0;34m**\u001b[0m\u001b[0mkwds\u001b[0m\u001b[0;34m)\u001b[0m\u001b[0;34m\u001b[0m\u001b[0;34m\u001b[0m\u001b[0m\n\u001b[0m\u001b[1;32m    815\u001b[0m       \u001b[0;32mif\u001b[0m \u001b[0mself\u001b[0m\u001b[0;34m.\u001b[0m\u001b[0m_created_variables\u001b[0m\u001b[0;34m:\u001b[0m\u001b[0;34m\u001b[0m\u001b[0;34m\u001b[0m\u001b[0m\n\u001b[1;32m    816\u001b[0m         raise ValueError(\"Creating variables on a non-first call to a function\"\n",
            "\u001b[0;32m/usr/local/lib/python3.6/dist-packages/tensorflow/python/eager/function.py\u001b[0m in \u001b[0;36m__call__\u001b[0;34m(self, *args, **kwargs)\u001b[0m\n\u001b[1;32m   2827\u001b[0m     \u001b[0;32mwith\u001b[0m \u001b[0mself\u001b[0m\u001b[0;34m.\u001b[0m\u001b[0m_lock\u001b[0m\u001b[0;34m:\u001b[0m\u001b[0;34m\u001b[0m\u001b[0;34m\u001b[0m\u001b[0m\n\u001b[1;32m   2828\u001b[0m       \u001b[0mgraph_function\u001b[0m\u001b[0;34m,\u001b[0m \u001b[0margs\u001b[0m\u001b[0;34m,\u001b[0m \u001b[0mkwargs\u001b[0m \u001b[0;34m=\u001b[0m \u001b[0mself\u001b[0m\u001b[0;34m.\u001b[0m\u001b[0m_maybe_define_function\u001b[0m\u001b[0;34m(\u001b[0m\u001b[0margs\u001b[0m\u001b[0;34m,\u001b[0m \u001b[0mkwargs\u001b[0m\u001b[0;34m)\u001b[0m\u001b[0;34m\u001b[0m\u001b[0;34m\u001b[0m\u001b[0m\n\u001b[0;32m-> 2829\u001b[0;31m     \u001b[0;32mreturn\u001b[0m \u001b[0mgraph_function\u001b[0m\u001b[0;34m.\u001b[0m\u001b[0m_filtered_call\u001b[0m\u001b[0;34m(\u001b[0m\u001b[0margs\u001b[0m\u001b[0;34m,\u001b[0m \u001b[0mkwargs\u001b[0m\u001b[0;34m)\u001b[0m  \u001b[0;31m# pylint: disable=protected-access\u001b[0m\u001b[0;34m\u001b[0m\u001b[0;34m\u001b[0m\u001b[0m\n\u001b[0m\u001b[1;32m   2830\u001b[0m \u001b[0;34m\u001b[0m\u001b[0m\n\u001b[1;32m   2831\u001b[0m   \u001b[0;34m@\u001b[0m\u001b[0mproperty\u001b[0m\u001b[0;34m\u001b[0m\u001b[0;34m\u001b[0m\u001b[0m\n",
            "\u001b[0;32m/usr/local/lib/python3.6/dist-packages/tensorflow/python/eager/function.py\u001b[0m in \u001b[0;36m_filtered_call\u001b[0;34m(self, args, kwargs, cancellation_manager)\u001b[0m\n\u001b[1;32m   1846\u001b[0m                            resource_variable_ops.BaseResourceVariable))],\n\u001b[1;32m   1847\u001b[0m         \u001b[0mcaptured_inputs\u001b[0m\u001b[0;34m=\u001b[0m\u001b[0mself\u001b[0m\u001b[0;34m.\u001b[0m\u001b[0mcaptured_inputs\u001b[0m\u001b[0;34m,\u001b[0m\u001b[0;34m\u001b[0m\u001b[0;34m\u001b[0m\u001b[0m\n\u001b[0;32m-> 1848\u001b[0;31m         cancellation_manager=cancellation_manager)\n\u001b[0m\u001b[1;32m   1849\u001b[0m \u001b[0;34m\u001b[0m\u001b[0m\n\u001b[1;32m   1850\u001b[0m   \u001b[0;32mdef\u001b[0m \u001b[0m_call_flat\u001b[0m\u001b[0;34m(\u001b[0m\u001b[0mself\u001b[0m\u001b[0;34m,\u001b[0m \u001b[0margs\u001b[0m\u001b[0;34m,\u001b[0m \u001b[0mcaptured_inputs\u001b[0m\u001b[0;34m,\u001b[0m \u001b[0mcancellation_manager\u001b[0m\u001b[0;34m=\u001b[0m\u001b[0;32mNone\u001b[0m\u001b[0;34m)\u001b[0m\u001b[0;34m:\u001b[0m\u001b[0;34m\u001b[0m\u001b[0;34m\u001b[0m\u001b[0m\n",
            "\u001b[0;32m/usr/local/lib/python3.6/dist-packages/tensorflow/python/eager/function.py\u001b[0m in \u001b[0;36m_call_flat\u001b[0;34m(self, args, captured_inputs, cancellation_manager)\u001b[0m\n\u001b[1;32m   1922\u001b[0m       \u001b[0;31m# No tape is watching; skip to running the function.\u001b[0m\u001b[0;34m\u001b[0m\u001b[0;34m\u001b[0m\u001b[0;34m\u001b[0m\u001b[0m\n\u001b[1;32m   1923\u001b[0m       return self._build_call_outputs(self._inference_function.call(\n\u001b[0;32m-> 1924\u001b[0;31m           ctx, args, cancellation_manager=cancellation_manager))\n\u001b[0m\u001b[1;32m   1925\u001b[0m     forward_backward = self._select_forward_and_backward_functions(\n\u001b[1;32m   1926\u001b[0m         \u001b[0margs\u001b[0m\u001b[0;34m,\u001b[0m\u001b[0;34m\u001b[0m\u001b[0;34m\u001b[0m\u001b[0m\n",
            "\u001b[0;32m/usr/local/lib/python3.6/dist-packages/tensorflow/python/eager/function.py\u001b[0m in \u001b[0;36mcall\u001b[0;34m(self, ctx, args, cancellation_manager)\u001b[0m\n\u001b[1;32m    548\u001b[0m               \u001b[0minputs\u001b[0m\u001b[0;34m=\u001b[0m\u001b[0margs\u001b[0m\u001b[0;34m,\u001b[0m\u001b[0;34m\u001b[0m\u001b[0;34m\u001b[0m\u001b[0m\n\u001b[1;32m    549\u001b[0m               \u001b[0mattrs\u001b[0m\u001b[0;34m=\u001b[0m\u001b[0mattrs\u001b[0m\u001b[0;34m,\u001b[0m\u001b[0;34m\u001b[0m\u001b[0;34m\u001b[0m\u001b[0m\n\u001b[0;32m--> 550\u001b[0;31m               ctx=ctx)\n\u001b[0m\u001b[1;32m    551\u001b[0m         \u001b[0;32melse\u001b[0m\u001b[0;34m:\u001b[0m\u001b[0;34m\u001b[0m\u001b[0;34m\u001b[0m\u001b[0m\n\u001b[1;32m    552\u001b[0m           outputs = execute.execute_with_cancellation(\n",
            "\u001b[0;32m/usr/local/lib/python3.6/dist-packages/tensorflow/python/eager/execute.py\u001b[0m in \u001b[0;36mquick_execute\u001b[0;34m(op_name, num_outputs, inputs, attrs, ctx, name)\u001b[0m\n\u001b[1;32m     58\u001b[0m     \u001b[0mctx\u001b[0m\u001b[0;34m.\u001b[0m\u001b[0mensure_initialized\u001b[0m\u001b[0;34m(\u001b[0m\u001b[0;34m)\u001b[0m\u001b[0;34m\u001b[0m\u001b[0;34m\u001b[0m\u001b[0m\n\u001b[1;32m     59\u001b[0m     tensors = pywrap_tfe.TFE_Py_Execute(ctx._handle, device_name, op_name,\n\u001b[0;32m---> 60\u001b[0;31m                                         inputs, attrs, num_outputs)\n\u001b[0m\u001b[1;32m     61\u001b[0m   \u001b[0;32mexcept\u001b[0m \u001b[0mcore\u001b[0m\u001b[0;34m.\u001b[0m\u001b[0m_NotOkStatusException\u001b[0m \u001b[0;32mas\u001b[0m \u001b[0me\u001b[0m\u001b[0;34m:\u001b[0m\u001b[0;34m\u001b[0m\u001b[0;34m\u001b[0m\u001b[0m\n\u001b[1;32m     62\u001b[0m     \u001b[0;32mif\u001b[0m \u001b[0mname\u001b[0m \u001b[0;32mis\u001b[0m \u001b[0;32mnot\u001b[0m \u001b[0;32mNone\u001b[0m\u001b[0;34m:\u001b[0m\u001b[0;34m\u001b[0m\u001b[0;34m\u001b[0m\u001b[0m\n",
            "\u001b[0;31mKeyboardInterrupt\u001b[0m: "
          ]
        }
      ]
    },
    {
      "cell_type": "code",
      "metadata": {
        "id": "OSpOmwGvVFIe",
        "colab": {
          "base_uri": "https://localhost:8080/"
        },
        "outputId": "77a362a2-ea6d-4d15-a6aa-f8b556ad40c0"
      },
      "source": [
        "y_softmax = nn_model.predict(X_test)\n",
        "y_pred = []\n",
        "for i in range(len(y_softmax)):\n",
        "    if(y_softmax[i][0] >y_softmax[i][1]): y_pred.append(0)\n",
        "    else: y_pred.append(1)\n",
        "\n",
        "y_pred = np.array(y_pred)\n",
        "print(tf.math.confusion_matrix(y_test,y_pred))\n",
        "print_metrics(y_test, y_pred)"
      ],
      "execution_count": null,
      "outputs": [
        {
          "output_type": "stream",
          "text": [
            "tf.Tensor(\n",
            "[[21666  2620]\n",
            " [  908   439]], shape=(2, 2), dtype=int32)\n",
            "Accuracy: 0.8623649202200289\n",
            "Recall: 0.8623649202200289\n",
            "Precision: 0.9168824179964989\n",
            "F1 Score: 0.8865905313763806\n"
          ],
          "name": "stdout"
        }
      ]
    }
  ]
}